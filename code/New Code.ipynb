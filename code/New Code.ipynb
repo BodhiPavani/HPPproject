{
 "cells": [
  {
   "cell_type": "markdown",
   "id": "cfdc5085-2152-4544-b453-ca3008cf6fd5",
   "metadata": {},
   "source": [
    "# 1. Importing Necessary Libraries"
   ]
  },
  {
   "cell_type": "code",
   "execution_count": 58,
   "id": "565e12ae-16e7-4057-8b85-34dfcb810b27",
   "metadata": {},
   "outputs": [],
   "source": [
    "# OS operations\n",
    "import os  \n",
    "\n",
    "# Numerical computing\n",
    "import numpy as np  \n",
    "\n",
    "# Data manipulation\n",
    "import pandas as pd  \n",
    "\n",
    "# Data visualization\n",
    "import matplotlib.pyplot as plt  \n",
    "import matplotlib.image as mpimg  \n",
    "import seaborn as sns  \n",
    "\n",
    "# Configure default plot size\n",
    "plt.rcParams[\"figure.figsize\"] = (20,10)  \n",
    "\n",
    "# Machine Learning - Preprocessing & Model Selection\n",
    "from sklearn.preprocessing import StandardScaler, LabelEncoder  \n",
    "from sklearn.model_selection import train_test_split, cross_val_score  \n",
    "\n",
    "# Machine Learning - Model\n",
    "import xgboost as xgb  "
   ]
  },
  {
   "cell_type": "markdown",
   "id": "7f434199-821b-48e1-8901-c3518830f3e9",
   "metadata": {},
   "source": [
    "# 2. Loading the Dataset"
   ]
  },
  {
   "cell_type": "code",
   "execution_count": 59,
   "id": "7e5780ef-4382-4348-90f0-b1fe4d3453dc",
   "metadata": {},
   "outputs": [
    {
     "data": {
      "text/html": [
       "<div>\n",
       "<style scoped>\n",
       "    .dataframe tbody tr th:only-of-type {\n",
       "        vertical-align: middle;\n",
       "    }\n",
       "\n",
       "    .dataframe tbody tr th {\n",
       "        vertical-align: top;\n",
       "    }\n",
       "\n",
       "    .dataframe thead th {\n",
       "        text-align: right;\n",
       "    }\n",
       "</style>\n",
       "<table border=\"1\" class=\"dataframe\">\n",
       "  <thead>\n",
       "    <tr style=\"text-align: right;\">\n",
       "      <th></th>\n",
       "      <th>area_type</th>\n",
       "      <th>availability</th>\n",
       "      <th>location</th>\n",
       "      <th>size</th>\n",
       "      <th>society</th>\n",
       "      <th>total_sqft</th>\n",
       "      <th>bath</th>\n",
       "      <th>balcony</th>\n",
       "      <th>price</th>\n",
       "    </tr>\n",
       "  </thead>\n",
       "  <tbody>\n",
       "    <tr>\n",
       "      <th>0</th>\n",
       "      <td>Super built-up  Area</td>\n",
       "      <td>19-Dec</td>\n",
       "      <td>Electronic City Phase II</td>\n",
       "      <td>2 BHK</td>\n",
       "      <td>Coomee</td>\n",
       "      <td>1056</td>\n",
       "      <td>2.0</td>\n",
       "      <td>1.0</td>\n",
       "      <td>39.07</td>\n",
       "    </tr>\n",
       "    <tr>\n",
       "      <th>1</th>\n",
       "      <td>Plot  Area</td>\n",
       "      <td>Ready To Move</td>\n",
       "      <td>Chikka Tirupathi</td>\n",
       "      <td>4 Bedroom</td>\n",
       "      <td>Theanmp</td>\n",
       "      <td>2600</td>\n",
       "      <td>5.0</td>\n",
       "      <td>3.0</td>\n",
       "      <td>120.00</td>\n",
       "    </tr>\n",
       "    <tr>\n",
       "      <th>2</th>\n",
       "      <td>Built-up  Area</td>\n",
       "      <td>Ready To Move</td>\n",
       "      <td>Uttarahalli</td>\n",
       "      <td>3 BHK</td>\n",
       "      <td>NaN</td>\n",
       "      <td>1440</td>\n",
       "      <td>2.0</td>\n",
       "      <td>3.0</td>\n",
       "      <td>62.00</td>\n",
       "    </tr>\n",
       "    <tr>\n",
       "      <th>3</th>\n",
       "      <td>Super built-up  Area</td>\n",
       "      <td>Ready To Move</td>\n",
       "      <td>Lingadheeranahalli</td>\n",
       "      <td>3 BHK</td>\n",
       "      <td>Soiewre</td>\n",
       "      <td>1521</td>\n",
       "      <td>3.0</td>\n",
       "      <td>1.0</td>\n",
       "      <td>95.00</td>\n",
       "    </tr>\n",
       "    <tr>\n",
       "      <th>4</th>\n",
       "      <td>Super built-up  Area</td>\n",
       "      <td>Ready To Move</td>\n",
       "      <td>Kothanur</td>\n",
       "      <td>2 BHK</td>\n",
       "      <td>NaN</td>\n",
       "      <td>1200</td>\n",
       "      <td>2.0</td>\n",
       "      <td>1.0</td>\n",
       "      <td>51.00</td>\n",
       "    </tr>\n",
       "  </tbody>\n",
       "</table>\n",
       "</div>"
      ],
      "text/plain": [
       "              area_type   availability                  location       size  \\\n",
       "0  Super built-up  Area         19-Dec  Electronic City Phase II      2 BHK   \n",
       "1            Plot  Area  Ready To Move          Chikka Tirupathi  4 Bedroom   \n",
       "2        Built-up  Area  Ready To Move               Uttarahalli      3 BHK   \n",
       "3  Super built-up  Area  Ready To Move        Lingadheeranahalli      3 BHK   \n",
       "4  Super built-up  Area  Ready To Move                  Kothanur      2 BHK   \n",
       "\n",
       "   society total_sqft  bath  balcony   price  \n",
       "0  Coomee        1056   2.0      1.0   39.07  \n",
       "1  Theanmp       2600   5.0      3.0  120.00  \n",
       "2      NaN       1440   2.0      3.0   62.00  \n",
       "3  Soiewre       1521   3.0      1.0   95.00  \n",
       "4      NaN       1200   2.0      1.0   51.00  "
      ]
     },
     "execution_count": 59,
     "metadata": {},
     "output_type": "execute_result"
    }
   ],
   "source": [
    "# Load the dataset\n",
    "home = pd.read_csv(\"Dataset/Bengaluru_House_Data.csv\")\n",
    "\n",
    "# Display the first five rows of the dataset\n",
    "home.head()"
   ]
  },
  {
   "cell_type": "markdown",
   "id": "bf8b2fef-da9d-4729-92f2-0075a80dddd4",
   "metadata": {},
   "source": [
    "# 3. Dataset Information & Structure"
   ]
  },
  {
   "cell_type": "code",
   "execution_count": 60,
   "id": "ac4e93fb-d559-472c-8cf2-299f3e3f1f52",
   "metadata": {},
   "outputs": [
    {
     "name": "stdout",
     "output_type": "stream",
     "text": [
      "<class 'pandas.core.frame.DataFrame'>\n",
      "RangeIndex: 13320 entries, 0 to 13319\n",
      "Data columns (total 9 columns):\n",
      " #   Column        Non-Null Count  Dtype  \n",
      "---  ------        --------------  -----  \n",
      " 0   area_type     13320 non-null  object \n",
      " 1   availability  13320 non-null  object \n",
      " 2   location      13319 non-null  object \n",
      " 3   size          13304 non-null  object \n",
      " 4   society       7818 non-null   object \n",
      " 5   total_sqft    13320 non-null  object \n",
      " 6   bath          13247 non-null  float64\n",
      " 7   balcony       12711 non-null  float64\n",
      " 8   price         13320 non-null  float64\n",
      "dtypes: float64(3), object(6)\n",
      "memory usage: 936.7+ KB\n"
     ]
    }
   ],
   "source": [
    "# Display dataset information\n",
    "home.info()"
   ]
  },
  {
   "cell_type": "markdown",
   "id": "13b338dc-6d86-46b8-b041-566227acb42e",
   "metadata": {},
   "source": [
    "# 4. Checking Missing Values (Percentage-wise)"
   ]
  },
  {
   "cell_type": "code",
   "execution_count": 61,
   "id": "0dfcfc8e-e8fd-459c-8a71-222c68a89e4b",
   "metadata": {},
   "outputs": [
    {
     "data": {
      "text/plain": [
       "area_type        0.00\n",
       "availability     0.00\n",
       "location         0.01\n",
       "size             0.12\n",
       "society         41.31\n",
       "total_sqft       0.00\n",
       "bath             0.55\n",
       "balcony          4.57\n",
       "price            0.00\n",
       "dtype: float64"
      ]
     },
     "execution_count": 61,
     "metadata": {},
     "output_type": "execute_result"
    }
   ],
   "source": [
    "# Calculate the percentage of missing values in each column\n",
    "round(100 * (home.isnull().sum() / len(home.index)), 2)"
   ]
  },
  {
   "cell_type": "markdown",
   "id": "8b4c06c2-5b2a-4c42-bc89-4409286b5aa0",
   "metadata": {},
   "source": [
    "# 5. Removing Missing Values"
   ]
  },
  {
   "cell_type": "code",
   "execution_count": 62,
   "id": "d9f779c8-38e7-40a1-9a5d-8f9d6d1b4f6b",
   "metadata": {},
   "outputs": [],
   "source": [
    "# Drop rows with missing values\n",
    "home.dropna(inplace=True)"
   ]
  },
  {
   "cell_type": "markdown",
   "id": "9c09c482-76cd-447f-b9a2-8701b5386e45",
   "metadata": {},
   "source": [
    "# 6. Dropping an Unnecessary Column"
   ]
  },
  {
   "cell_type": "code",
   "execution_count": 63,
   "id": "527a0471-920e-4ff3-b81b-c701a53a1e96",
   "metadata": {},
   "outputs": [],
   "source": [
    "# Drop the 'society' column from the dataset\n",
    "home = home.drop(columns='society')"
   ]
  },
  {
   "cell_type": "markdown",
   "id": "96f3f2e1-4930-418c-bed2-0e022df7f406",
   "metadata": {},
   "source": [
    "# 7. Resetting the DataFrame Index"
   ]
  },
  {
   "cell_type": "code",
   "execution_count": 64,
   "id": "0f87a55d-6120-4cbf-9014-f47d599f7b3d",
   "metadata": {},
   "outputs": [],
   "source": [
    "# Reset the index after dropping rows/columns\n",
    "home.reset_index(drop=True, inplace=True)"
   ]
  },
  {
   "cell_type": "markdown",
   "id": "cea8c5f3-22aa-489b-9019-ec46050922d3",
   "metadata": {},
   "source": [
    "# 8. Visualizing the Distribution of area_type"
   ]
  },
  {
   "cell_type": "code",
   "execution_count": 65,
   "id": "361976f0-0215-4959-9281-c918d9429a0b",
   "metadata": {},
   "outputs": [
    {
     "data": {
      "image/png": "[encoded data removed]",
      "text/plain": [
       "<Figure size 2000x1000 with 1 Axes>"
      ]
     },
     "metadata": {},
     "output_type": "display_data"
    }
   ],
   "source": [
    "# Plot a pie chart to visualize the distribution of 'area_type'\n",
    "(home[\"area_type\"].value_counts()).plot.pie(\n",
    "    autopct=\"%.1f%%\",   # Display percentage on the pie chart\n",
    "    shadow=True,         # Add shadow to the chart for better aesthetics\n",
    "    rotatelabels=True,   # Rotate labels to prevent overlap\n",
    "    wedgeprops={'linewidth': 6},  # Set the thickness of the pie chart slices\n",
    "    radius=1             # Set the radius of the pie chart\n",
    ")\n",
    "\n",
    "# Display the plot\n",
    "plt.show()"
   ]
  },
  {
   "cell_type": "markdown",
   "id": "60039079-f631-4e44-bfec-c84dc48113bb",
   "metadata": {},
   "source": [
    "# 10. Distribution of bath by area_type"
   ]
  },
  {
   "cell_type": "code",
   "execution_count": 66,
   "id": "d6dbd358-cea1-4f43-9920-cc9e5a90c97f",
   "metadata": {},
   "outputs": [
    {
     "data": {
      "image/png": "[encoded data removed]",
      "text/plain": [
       "<Figure size 789.25x600 with 1 Axes>"
      ]
     },
     "metadata": {},
     "output_type": "display_data"
    }
   ],
   "source": [
    "# Ignore warnings for cleaner output\n",
    "import warnings\n",
    "warnings.filterwarnings('ignore')\n",
    "\n",
    "# Create a FacetGrid to visualize the distribution of 'bath' based on 'area_type'\n",
    "sns.FacetGrid(home, hue='area_type', height=6).map(sns.distplot, 'bath').add_legend()\n",
    "\n",
    "# Display the plot\n",
    "plt.show()"
   ]
  },
  {
   "cell_type": "markdown",
   "id": "caa1ebba-731e-48d2-b3ed-ee5f7128254a",
   "metadata": {},
   "source": [
    "# 11. Distribution of balcony by area_type"
   ]
  },
  {
   "cell_type": "code",
   "execution_count": 67,
   "id": "98e5c9f7-dd2c-4e69-9702-c7137a8e2fe0",
   "metadata": {},
   "outputs": [
    {
     "data": {
      "image/png": "[encoded data removed]",
      "text/plain": [
       "<Figure size 789.25x600 with 1 Axes>"
      ]
     },
     "metadata": {},
     "output_type": "display_data"
    }
   ],
   "source": [
    "# Create a FacetGrid to visualize the distribution of 'balcony' based on 'area_type'\n",
    "sns.FacetGrid(home, hue='area_type', height=6).map(sns.distplot, 'balcony').add_legend()\n",
    "\n",
    "# Display the plot\n",
    "plt.show()"
   ]
  },
  {
   "cell_type": "markdown",
   "id": "c906f241-a029-49ff-a161-52b5a52face4",
   "metadata": {},
   "source": [
    "# 12. Extracting and Converting the bhk Feature"
   ]
  },
  {
   "cell_type": "code",
   "execution_count": 68,
   "id": "89b68448-cb67-4d94-b538-2c6e80570bfc",
   "metadata": {},
   "outputs": [],
   "source": [
    "# Extract the number of bedrooms (BHK) from the 'size' column and create a new 'bhk' column\n",
    "home['bhk'] = home['size'].str.split().str[0]\n",
    "\n",
    "# Drop any missing values in the 'bhk' column\n",
    "home['bhk'].dropna(inplace=True)\n",
    "\n",
    "# Convert the 'bhk' column to integer type\n",
    "home['bhk'] = home['bhk'].astype('int')"
   ]
  },
  {
   "cell_type": "markdown",
   "id": "db8f3ad7-c990-4959-9220-1aac191f7a71",
   "metadata": {},
   "source": [
    "# 13. Visualizing the Distribution of bhk (Number of Bedrooms)"
   ]
  },
  {
   "cell_type": "code",
   "execution_count": 69,
   "id": "a316999b-5404-4c24-bc66-272017d085a6",
   "metadata": {},
   "outputs": [
    {
     "data": {
      "image/png": "[encoded data removed]",
      "text/plain": [
       "<Figure size 2000x800 with 1 Axes>"
      ]
     },
     "metadata": {},
     "output_type": "display_data"
    }
   ],
   "source": [
    "# Set the figure size for the plot\n",
    "plt.figure(figsize=(20,8))\n",
    "\n",
    "# Create a count plot to visualize the distribution of 'bhk'\n",
    "ax = sns.countplot(x='bhk', data=home)\n",
    "\n",
    "# Rotate the x-axis labels for better readability\n",
    "plt.xticks(rotation=90)\n",
    "\n",
    "# Annotate each bar with the count value\n",
    "for p in ax.patches:\n",
    "    ax.annotate(\n",
    "        int(p.get_height()),  # Display the count on top of the bar\n",
    "        (p.get_x() + 0.25, p.get_height() + 1),  # Position the label above the bar\n",
    "        va='bottom',  # Align the label at the bottom of the annotation\n",
    "        color='black'  # Set the label color to black\n",
    "    )\n",
    "\n",
    "# Display the plot\n",
    "plt.show()"
   ]
  },
  {
   "cell_type": "markdown",
   "id": "0b5dea7b-a33f-45c9-96b8-8c4f12c0c9f6",
   "metadata": {},
   "source": [
    "# 14. Boxplot of price vs bhk (Number of Bedrooms)"
   ]
  },
  {
   "cell_type": "code",
   "execution_count": 70,
   "id": "3f77857f-653e-49c6-aef2-e1898ceea7a4",
   "metadata": {},
   "outputs": [
    {
     "data": {
      "image/png": "[encoded data removed]",
      "text/plain": [
       "<Figure size 2000x1000 with 1 Axes>"
      ]
     },
     "metadata": {},
     "output_type": "display_data"
    }
   ],
   "source": [
    "# Create a boxplot to visualize the distribution of 'price' based on 'bhk' (number of bedrooms)\n",
    "sns.boxplot(x='bhk', y='price', data=home)\n",
    "\n",
    "# Display the plot\n",
    "plt.show()"
   ]
  },
  {
   "cell_type": "markdown",
   "id": "c4caae7d-786e-4116-9f28-8c023288290c",
   "metadata": {},
   "source": [
    "# 15. Inspecting and Converting total_sqft"
   ]
  },
  {
   "cell_type": "code",
   "execution_count": 71,
   "id": "eed7f1ff-36d0-4e6d-92ba-b69b28622681",
   "metadata": {},
   "outputs": [
    {
     "name": "stdout",
     "output_type": "stream",
     "text": [
      "17    2100 - 2850\n",
      "Name: total_sqft, dtype: object\n"
     ]
    }
   ],
   "source": [
    "# Inspect the value at index 17 in the 'total_sqft' column\n",
    "print(home['total_sqft'].iloc[[17]])\n",
    "\n",
    "# Function to convert 'total_sqft' values into numeric form\n",
    "def convert_sqft_to_num(x):\n",
    "    # If the value has a range (e.g., \"1200-1300\"), calculate the average\n",
    "    tokens = x.split('-')\n",
    "    if len(tokens) == 2:\n",
    "        return (float(tokens[0]) + float(tokens[1])) / 2\n",
    "    \n",
    "    # If it's a single value, return it as a float\n",
    "    try:\n",
    "        return float(x)\n",
    "    except:\n",
    "        return None  # Return None if the value is not a valid number"
   ]
  },
  {
   "cell_type": "markdown",
   "id": "4eca296e-a334-47f1-8a2a-818bee9f3f6a",
   "metadata": {},
   "source": [
    "# 16. Converting and Cleaning total_sqft Data"
   ]
  },
  {
   "cell_type": "code",
   "execution_count": 72,
   "id": "db78e2fd-77bf-452f-b73c-869849072c20",
   "metadata": {},
   "outputs": [
    {
     "data": {
      "text/html": [
       "<div>\n",
       "<style scoped>\n",
       "    .dataframe tbody tr th:only-of-type {\n",
       "        vertical-align: middle;\n",
       "    }\n",
       "\n",
       "    .dataframe tbody tr th {\n",
       "        vertical-align: top;\n",
       "    }\n",
       "\n",
       "    .dataframe thead th {\n",
       "        text-align: right;\n",
       "    }\n",
       "</style>\n",
       "<table border=\"1\" class=\"dataframe\">\n",
       "  <thead>\n",
       "    <tr style=\"text-align: right;\">\n",
       "      <th></th>\n",
       "      <th>area_type</th>\n",
       "      <th>availability</th>\n",
       "      <th>location</th>\n",
       "      <th>size</th>\n",
       "      <th>total_sqft</th>\n",
       "      <th>bath</th>\n",
       "      <th>balcony</th>\n",
       "      <th>price</th>\n",
       "      <th>bhk</th>\n",
       "    </tr>\n",
       "  </thead>\n",
       "  <tbody>\n",
       "    <tr>\n",
       "      <th>0</th>\n",
       "      <td>Super built-up  Area</td>\n",
       "      <td>19-Dec</td>\n",
       "      <td>Electronic City Phase II</td>\n",
       "      <td>2 BHK</td>\n",
       "      <td>1056.0</td>\n",
       "      <td>2.0</td>\n",
       "      <td>1.0</td>\n",
       "      <td>39.07</td>\n",
       "      <td>2</td>\n",
       "    </tr>\n",
       "    <tr>\n",
       "      <th>1</th>\n",
       "      <td>Plot  Area</td>\n",
       "      <td>Ready To Move</td>\n",
       "      <td>Chikka Tirupathi</td>\n",
       "      <td>4 Bedroom</td>\n",
       "      <td>2600.0</td>\n",
       "      <td>5.0</td>\n",
       "      <td>3.0</td>\n",
       "      <td>120.00</td>\n",
       "      <td>4</td>\n",
       "    </tr>\n",
       "  </tbody>\n",
       "</table>\n",
       "</div>"
      ],
      "text/plain": [
       "              area_type   availability                  location       size  \\\n",
       "0  Super built-up  Area         19-Dec  Electronic City Phase II      2 BHK   \n",
       "1            Plot  Area  Ready To Move          Chikka Tirupathi  4 Bedroom   \n",
       "\n",
       "   total_sqft  bath  balcony   price  bhk  \n",
       "0      1056.0   2.0      1.0   39.07    2  \n",
       "1      2600.0   5.0      3.0  120.00    4  "
      ]
     },
     "execution_count": 72,
     "metadata": {},
     "output_type": "execute_result"
    }
   ],
   "source": [
    "# Apply the conversion function to the entire 'total_sqft' column\n",
    "home.total_sqft = home.total_sqft.apply(convert_sqft_to_num)\n",
    "\n",
    "# Remove rows where 'total_sqft' is null (None or missing)\n",
    "home = home[home.total_sqft.notnull()]\n",
    "\n",
    "# Display the first two rows of the cleaned dataset\n",
    "home.head(2)"
   ]
  },
  {
   "cell_type": "markdown",
   "id": "7e5ffef8-b236-464a-bd44-d0b7529286bd",
   "metadata": {},
   "source": [
    "# 17. Filtering Out Properties with Unrealistic total_sqft to bhk Ratios"
   ]
  },
  {
   "cell_type": "code",
   "execution_count": 73,
   "id": "0473812f-b60f-4453-b58a-8cd4dad46ab0",
   "metadata": {},
   "outputs": [
    {
     "data": {
      "text/plain": [
       "(7478, 9)"
      ]
     },
     "execution_count": 73,
     "metadata": {},
     "output_type": "execute_result"
    }
   ],
   "source": [
    "# Filter out properties where the ratio of 'total_sqft' to 'bhk' is less than 200\n",
    "home = home[~(home.total_sqft / home.bhk < 200)]\n",
    "\n",
    "# Display the shape of the filtered dataset (number of rows and columns)\n",
    "home.shape"
   ]
  },
  {
   "cell_type": "markdown",
   "id": "bf55318a-5da9-466b-a651-9cb339f829df",
   "metadata": {},
   "source": [
    "# 18. Separating Numerical and Categorical Columns"
   ]
  },
  {
   "cell_type": "code",
   "execution_count": 74,
   "id": "589a716c-f6bf-41bb-9b3a-1127a1f1fdd1",
   "metadata": {},
   "outputs": [],
   "source": [
    "# Select all numerical columns (excluding object types like strings)\n",
    "cont_ = home.select_dtypes(exclude='object')\n",
    "\n",
    "# Select all categorical columns (those with object type like strings)\n",
    "cat_ = home.select_dtypes(include='object')"
   ]
  },
  {
   "cell_type": "markdown",
   "id": "b2e062b8-07fd-4bbf-8aa5-bd2cf4efd156",
   "metadata": {},
   "source": [
    "# 19. Boxplots for Numerical Features"
   ]
  },
  {
   "cell_type": "code",
   "execution_count": 75,
   "id": "2a8014c4-b720-4d37-9361-b15a7f6026af",
   "metadata": {},
   "outputs": [
    {
     "data": {
      "image/png": "[encoded data removed]",
      "text/plain": [
       "<Figure size 1000x800 with 5 Axes>"
      ]
     },
     "metadata": {},
     "output_type": "display_data"
    }
   ],
   "source": [
    "# Set the figure size for the plot\n",
    "fig = plt.figure(figsize=(10,8))\n",
    "\n",
    "# Loop through each numerical column to create a boxplot\n",
    "for index, col in enumerate(cont_):\n",
    "    # Create a subplot for each column\n",
    "    plt.subplot(3, 2, index + 1)\n",
    "    \n",
    "    # Create a boxplot for the current column\n",
    "    sns.boxplot(y=cont_.loc[:, col])\n",
    "\n",
    "# Adjust the layout for better spacing between subplots\n",
    "fig.tight_layout(pad=1.0)"
   ]
  },
  {
   "cell_type": "markdown",
   "id": "7290e121-d402-4ed3-a509-2260f08d773f",
   "metadata": {},
   "source": [
    "# 20. Removing Outliers for bath and bhk"
   ]
  },
  {
   "cell_type": "code",
   "execution_count": 76,
   "id": "9c8cba78-f9ca-4234-90c7-ffb3e9987f6f",
   "metadata": {},
   "outputs": [],
   "source": [
    "# Remove rows where the 'bath' value is greater than 6 (outlier threshold)\n",
    "home = home.drop(home[home['bath'] > 6].index)\n",
    "\n",
    "# Remove rows where the 'bhk' value is greater than 7 (outlier threshold)\n",
    "home = home.drop(home[home['bhk'] > 7.0].index)"
   ]
  },
  {
   "cell_type": "markdown",
   "id": "15ef41e6-401c-42b3-8aec-dd64094afa6f",
   "metadata": {},
   "source": [
    "# 21. Calculating price_per_sqft"
   ]
  },
  {
   "cell_type": "code",
   "execution_count": 77,
   "id": "42c47d6c-1b31-4df6-aff4-353fdb211b52",
   "metadata": {},
   "outputs": [
    {
     "data": {
      "text/html": [
       "<div>\n",
       "<style scoped>\n",
       "    .dataframe tbody tr th:only-of-type {\n",
       "        vertical-align: middle;\n",
       "    }\n",
       "\n",
       "    .dataframe tbody tr th {\n",
       "        vertical-align: top;\n",
       "    }\n",
       "\n",
       "    .dataframe thead th {\n",
       "        text-align: right;\n",
       "    }\n",
       "</style>\n",
       "<table border=\"1\" class=\"dataframe\">\n",
       "  <thead>\n",
       "    <tr style=\"text-align: right;\">\n",
       "      <th></th>\n",
       "      <th>area_type</th>\n",
       "      <th>availability</th>\n",
       "      <th>location</th>\n",
       "      <th>size</th>\n",
       "      <th>total_sqft</th>\n",
       "      <th>bath</th>\n",
       "      <th>balcony</th>\n",
       "      <th>price</th>\n",
       "      <th>bhk</th>\n",
       "      <th>price_per_sqft</th>\n",
       "    </tr>\n",
       "  </thead>\n",
       "  <tbody>\n",
       "    <tr>\n",
       "      <th>0</th>\n",
       "      <td>Super built-up  Area</td>\n",
       "      <td>19-Dec</td>\n",
       "      <td>Electronic City Phase II</td>\n",
       "      <td>2 BHK</td>\n",
       "      <td>1056.0</td>\n",
       "      <td>2.0</td>\n",
       "      <td>1.0</td>\n",
       "      <td>39.07</td>\n",
       "      <td>2</td>\n",
       "      <td>3699.810606</td>\n",
       "    </tr>\n",
       "    <tr>\n",
       "      <th>1</th>\n",
       "      <td>Plot  Area</td>\n",
       "      <td>Ready To Move</td>\n",
       "      <td>Chikka Tirupathi</td>\n",
       "      <td>4 Bedroom</td>\n",
       "      <td>2600.0</td>\n",
       "      <td>5.0</td>\n",
       "      <td>3.0</td>\n",
       "      <td>120.00</td>\n",
       "      <td>4</td>\n",
       "      <td>4615.384615</td>\n",
       "    </tr>\n",
       "    <tr>\n",
       "      <th>2</th>\n",
       "      <td>Super built-up  Area</td>\n",
       "      <td>Ready To Move</td>\n",
       "      <td>Lingadheeranahalli</td>\n",
       "      <td>3 BHK</td>\n",
       "      <td>1521.0</td>\n",
       "      <td>3.0</td>\n",
       "      <td>1.0</td>\n",
       "      <td>95.00</td>\n",
       "      <td>3</td>\n",
       "      <td>6245.890861</td>\n",
       "    </tr>\n",
       "    <tr>\n",
       "      <th>3</th>\n",
       "      <td>Super built-up  Area</td>\n",
       "      <td>Ready To Move</td>\n",
       "      <td>Whitefield</td>\n",
       "      <td>2 BHK</td>\n",
       "      <td>1170.0</td>\n",
       "      <td>2.0</td>\n",
       "      <td>1.0</td>\n",
       "      <td>38.00</td>\n",
       "      <td>2</td>\n",
       "      <td>3247.863248</td>\n",
       "    </tr>\n",
       "    <tr>\n",
       "      <th>4</th>\n",
       "      <td>Plot  Area</td>\n",
       "      <td>Ready To Move</td>\n",
       "      <td>Whitefield</td>\n",
       "      <td>4 Bedroom</td>\n",
       "      <td>2785.0</td>\n",
       "      <td>5.0</td>\n",
       "      <td>3.0</td>\n",
       "      <td>295.00</td>\n",
       "      <td>4</td>\n",
       "      <td>10592.459605</td>\n",
       "    </tr>\n",
       "  </tbody>\n",
       "</table>\n",
       "</div>"
      ],
      "text/plain": [
       "              area_type   availability                  location       size  \\\n",
       "0  Super built-up  Area         19-Dec  Electronic City Phase II      2 BHK   \n",
       "1            Plot  Area  Ready To Move          Chikka Tirupathi  4 Bedroom   \n",
       "2  Super built-up  Area  Ready To Move        Lingadheeranahalli      3 BHK   \n",
       "3  Super built-up  Area  Ready To Move                Whitefield      2 BHK   \n",
       "4            Plot  Area  Ready To Move                Whitefield  4 Bedroom   \n",
       "\n",
       "   total_sqft  bath  balcony   price  bhk  price_per_sqft  \n",
       "0      1056.0   2.0      1.0   39.07    2     3699.810606  \n",
       "1      2600.0   5.0      3.0  120.00    4     4615.384615  \n",
       "2      1521.0   3.0      1.0   95.00    3     6245.890861  \n",
       "3      1170.0   2.0      1.0   38.00    2     3247.863248  \n",
       "4      2785.0   5.0      3.0  295.00    4    10592.459605  "
      ]
     },
     "execution_count": 77,
     "metadata": {},
     "output_type": "execute_result"
    }
   ],
   "source": [
    "# Calculate the price per square foot and create a new column 'price_per_sqft'\n",
    "home['price_per_sqft'] = home['price'] * 100000 / home['total_sqft']\n",
    "\n",
    "# Display the first few rows of the updated DataFrame\n",
    "home.head()"
   ]
  },
  {
   "cell_type": "markdown",
   "id": "7f8f8e8f-085b-442f-a898-e2a245c70841",
   "metadata": {},
   "source": [
    "# 22. Removing Outliers Based on price_per_sqft by Location"
   ]
  },
  {
   "cell_type": "code",
   "execution_count": 78,
   "id": "bddcd095-9c6c-49f8-909c-37c4491bef4b",
   "metadata": {},
   "outputs": [
    {
     "data": {
      "text/plain": [
       "(5389, 10)"
      ]
     },
     "execution_count": 78,
     "metadata": {},
     "output_type": "execute_result"
    }
   ],
   "source": [
    "# Function to remove outliers in 'price_per_sqft' by location\n",
    "def remove_pps_outliers(df):\n",
    "    df_out = pd.DataFrame()\n",
    "    for key, subdf in df.groupby('location'):\n",
    "        # Calculate the mean and standard deviation of 'price_per_sqft' for each location\n",
    "        m = np.mean(subdf.price_per_sqft)\n",
    "        st = np.std(subdf.price_per_sqft)\n",
    "        \n",
    "        # Filter out rows where 'price_per_sqft' is outside the range (mean - std) to (mean + std)\n",
    "        reduced_df = subdf[(subdf.price_per_sqft > (m - st)) & (subdf.price_per_sqft <= (m + st))]\n",
    "        \n",
    "        # Concatenate the filtered data back into the output DataFrame\n",
    "        df_out = pd.concat([df_out, reduced_df], ignore_index=True)\n",
    "    \n",
    "    return df_out\n",
    "\n",
    "# Apply the function to remove outliers based on 'price_per_sqft'\n",
    "home = remove_pps_outliers(home)\n",
    "\n",
    "# Display the shape of the DataFrame after removing outliers\n",
    "home.shape"
   ]
  },
  {
   "cell_type": "markdown",
   "id": "ad4d9638-b476-496a-8ac1-c1e950eab6f4",
   "metadata": {},
   "source": [
    "# 23. Correlation Heatmap (Masked for Correlations Below 0.8)"
   ]
  },
  {
   "cell_type": "code",
   "execution_count": 79,
   "id": "6b439e4d-1033-4211-a070-362041685ff3",
   "metadata": {},
   "outputs": [
    {
     "data": {
      "application/vnd.plotly.v1+json": {
       "config": {
        "plotlyServerURL": "https://plot.ly"
       },
       "data": [
        {
         "colorbar": {
          "title": {
           "text": "Correlation"
          }
         },
         "colorscale": [
          [
           0,
           "rgb(247,251,255)"
          ],
          [
           0.125,
           "rgb(222,235,247)"
          ],
          [
           0.25,
           "rgb(198,219,239)"
          ],
          [
           0.375,
           "rgb(158,202,225)"
          ],
          [
           0.5,
           "rgb(107,174,214)"
          ],
          [
           0.625,
           "rgb(66,146,198)"
          ],
          [
           0.75,
           "rgb(33,113,181)"
          ],
          [
           0.875,
           "rgb(8,81,156)"
          ],
          [
           1,
           "rgb(8,48,107)"
          ]
         ],
         "showscale": true,
         "type": "heatmap",
         "x": [
          "total_sqft",
          "bath",
          "balcony",
          "price",
          "bhk",
          "price_per_sqft"
         ],
         "y": [
          "total_sqft",
          "bath",
          "balcony",
          "price",
          "bhk",
          "price_per_sqft"
         ],
         "z": [
          [
           1,
           0.8115408209017506,
           null,
           0.8420505261930777,
           null,
           null
          ],
          [
           0.8115408209017506,
           1,
           null,
           null,
           0.8077398516831229,
           null
          ],
          [
           null,
           null,
           1,
           null,
           null,
           null
          ],
          [
           0.8420505261930777,
           null,
           null,
           1,
           null,
           null
          ],
          [
           null,
           0.8077398516831229,
           null,
           null,
           1,
           null
          ],
          [
           null,
           null,
           null,
           null,
           null,
           1
          ]
         ],
         "zmax": 1,
         "zmin": -1
        }
       ],
       "layout": {
        "height": 800,
        "margin": {
         "b": 50,
         "l": 50,
         "r": 50,
         "t": 50
        },
        "template": {
         "data": {
          "bar": [
           {
            "error_x": {
             "color": "#2a3f5f"
            },
            "error_y": {
             "color": "#2a3f5f"
            },
            "marker": {
             "line": {
              "color": "#E5ECF6",
              "width": 0.5
             },
             "pattern": {
              "fillmode": "overlay",
              "size": 10,
              "solidity": 0.2
             }
            },
            "type": "bar"
           }
          ],
          "barpolar": [
           {
            "marker": {
             "line": {
              "color": "#E5ECF6",
              "width": 0.5
             },
             "pattern": {
              "fillmode": "overlay",
              "size": 10,
              "solidity": 0.2
             }
            },
            "type": "barpolar"
           }
          ],
          "carpet": [
           {
            "aaxis": {
             "endlinecolor": "#2a3f5f",
             "gridcolor": "white",
             "linecolor": "white",
             "minorgridcolor": "white",
             "startlinecolor": "#2a3f5f"
            },
            "baxis": {
             "endlinecolor": "#2a3f5f",
             "gridcolor": "white",
             "linecolor": "white",
             "minorgridcolor": "white",
             "startlinecolor": "#2a3f5f"
            },
            "type": "carpet"
           }
          ],
          "choropleth": [
           {
            "colorbar": {
             "outlinewidth": 0,
             "ticks": ""
            },
            "type": "choropleth"
           }
          ],
          "contour": [
           {
            "colorbar": {
             "outlinewidth": 0,
             "ticks": ""
            },
            "colorscale": [
             [
              0,
              "#0d0887"
             ],
             [
              0.1111111111111111,
              "#46039f"
             ],
             [
              0.2222222222222222,
              "#7201a8"
             ],
             [
              0.3333333333333333,
              "#9c179e"
             ],
             [
              0.4444444444444444,
              "#bd3786"
             ],
             [
              0.5555555555555556,
              "#d8576b"
             ],
             [
              0.6666666666666666,
              "#ed7953"
             ],
             [
              0.7777777777777778,
              "#fb9f3a"
             ],
             [
              0.8888888888888888,
              "#fdca26"
             ],
             [
              1,
              "#f0f921"
             ]
            ],
            "type": "contour"
           }
          ],
          "contourcarpet": [
           {
            "colorbar": {
             "outlinewidth": 0,
             "ticks": ""
            },
            "type": "contourcarpet"
           }
          ],
          "heatmap": [
           {
            "colorbar": {
             "outlinewidth": 0,
             "ticks": ""
            },
            "colorscale": [
             [
              0,
              "#0d0887"
             ],
             [
              0.1111111111111111,
              "#46039f"
             ],
             [
              0.2222222222222222,
              "#7201a8"
             ],
             [
              0.3333333333333333,
              "#9c179e"
             ],
             [
              0.4444444444444444,
              "#bd3786"
             ],
             [
              0.5555555555555556,
              "#d8576b"
             ],
             [
              0.6666666666666666,
              "#ed7953"
             ],
             [
              0.7777777777777778,
              "#fb9f3a"
             ],
             [
              0.8888888888888888,
              "#fdca26"
             ],
             [
              1,
              "#f0f921"
             ]
            ],
            "type": "heatmap"
           }
          ],
          "heatmapgl": [
           {
            "colorbar": {
             "outlinewidth": 0,
             "ticks": ""
            },
            "colorscale": [
             [
              0,
              "#0d0887"
             ],
             [
              0.1111111111111111,
              "#46039f"
             ],
             [
              0.2222222222222222,
              "#7201a8"
             ],
             [
              0.3333333333333333,
              "#9c179e"
             ],
             [
              0.4444444444444444,
              "#bd3786"
             ],
             [
              0.5555555555555556,
              "#d8576b"
             ],
             [
              0.6666666666666666,
              "#ed7953"
             ],
             [
              0.7777777777777778,
              "#fb9f3a"
             ],
             [
              0.8888888888888888,
              "#fdca26"
             ],
             [
              1,
              "#f0f921"
             ]
            ],
            "type": "heatmapgl"
           }
          ],
          "histogram": [
           {
            "marker": {
             "pattern": {
              "fillmode": "overlay",
              "size": 10,
              "solidity": 0.2
             }
            },
            "type": "histogram"
           }
          ],
          "histogram2d": [
           {
            "colorbar": {
             "outlinewidth": 0,
             "ticks": ""
            },
            "colorscale": [
             [
              0,
              "#0d0887"
             ],
             [
              0.1111111111111111,
              "#46039f"
             ],
             [
              0.2222222222222222,
              "#7201a8"
             ],
             [
              0.3333333333333333,
              "#9c179e"
             ],
             [
              0.4444444444444444,
              "#bd3786"
             ],
             [
              0.5555555555555556,
              "#d8576b"
             ],
             [
              0.6666666666666666,
              "#ed7953"
             ],
             [
              0.7777777777777778,
              "#fb9f3a"
             ],
             [
              0.8888888888888888,
              "#fdca26"
             ],
             [
              1,
              "#f0f921"
             ]
            ],
            "type": "histogram2d"
           }
          ],
          "histogram2dcontour": [
           {
            "colorbar": {
             "outlinewidth": 0,
             "ticks": ""
            },
            "colorscale": [
             [
              0,
              "#0d0887"
             ],
             [
              0.1111111111111111,
              "#46039f"
             ],
             [
              0.2222222222222222,
              "#7201a8"
             ],
             [
              0.3333333333333333,
              "#9c179e"
             ],
             [
              0.4444444444444444,
              "#bd3786"
             ],
             [
              0.5555555555555556,
              "#d8576b"
             ],
             [
              0.6666666666666666,
              "#ed7953"
             ],
             [
              0.7777777777777778,
              "#fb9f3a"
             ],
             [
              0.8888888888888888,
              "#fdca26"
             ],
             [
              1,
              "#f0f921"
             ]
            ],
            "type": "histogram2dcontour"
           }
          ],
          "mesh3d": [
           {
            "colorbar": {
             "outlinewidth": 0,
             "ticks": ""
            },
            "type": "mesh3d"
           }
          ],
          "parcoords": [
           {
            "line": {
             "colorbar": {
              "outlinewidth": 0,
              "ticks": ""
             }
            },
            "type": "parcoords"
           }
          ],
          "pie": [
           {
            "automargin": true,
            "type": "pie"
           }
          ],
          "scatter": [
           {
            "fillpattern": {
             "fillmode": "overlay",
             "size": 10,
             "solidity": 0.2
            },
            "type": "scatter"
           }
          ],
          "scatter3d": [
           {
            "line": {
             "colorbar": {
              "outlinewidth": 0,
              "ticks": ""
             }
            },
            "marker": {
             "colorbar": {
              "outlinewidth": 0,
              "ticks": ""
             }
            },
            "type": "scatter3d"
           }
          ],
          "scattercarpet": [
           {
            "marker": {
             "colorbar": {
              "outlinewidth": 0,
              "ticks": ""
             }
            },
            "type": "scattercarpet"
           }
          ],
          "scattergeo": [
           {
            "marker": {
             "colorbar": {
              "outlinewidth": 0,
              "ticks": ""
             }
            },
            "type": "scattergeo"
           }
          ],
          "scattergl": [
           {
            "marker": {
             "colorbar": {
              "outlinewidth": 0,
              "ticks": ""
             }
            },
            "type": "scattergl"
           }
          ],
          "scattermapbox": [
           {
            "marker": {
             "colorbar": {
              "outlinewidth": 0,
              "ticks": ""
             }
            },
            "type": "scattermapbox"
           }
          ],
          "scatterpolar": [
           {
            "marker": {
             "colorbar": {
              "outlinewidth": 0,
              "ticks": ""
             }
            },
            "type": "scatterpolar"
           }
          ],
          "scatterpolargl": [
           {
            "marker": {
             "colorbar": {
              "outlinewidth": 0,
              "ticks": ""
             }
            },
            "type": "scatterpolargl"
           }
          ],
          "scatterternary": [
           {
            "marker": {
             "colorbar": {
              "outlinewidth": 0,
              "ticks": ""
             }
            },
            "type": "scatterternary"
           }
          ],
          "surface": [
           {
            "colorbar": {
             "outlinewidth": 0,
             "ticks": ""
            },
            "colorscale": [
             [
              0,
              "#0d0887"
             ],
             [
              0.1111111111111111,
              "#46039f"
             ],
             [
              0.2222222222222222,
              "#7201a8"
             ],
             [
              0.3333333333333333,
              "#9c179e"
             ],
             [
              0.4444444444444444,
              "#bd3786"
             ],
             [
              0.5555555555555556,
              "#d8576b"
             ],
             [
              0.6666666666666666,
              "#ed7953"
             ],
             [
              0.7777777777777778,
              "#fb9f3a"
             ],
             [
              0.8888888888888888,
              "#fdca26"
             ],
             [
              1,
              "#f0f921"
             ]
            ],
            "type": "surface"
           }
          ],
          "table": [
           {
            "cells": {
             "fill": {
              "color": "#EBF0F8"
             },
             "line": {
              "color": "white"
             }
            },
            "header": {
             "fill": {
              "color": "#C8D4E3"
             },
             "line": {
              "color": "white"
             }
            },
            "type": "table"
           }
          ]
         },
         "layout": {
          "annotationdefaults": {
           "arrowcolor": "#2a3f5f",
           "arrowhead": 0,
           "arrowwidth": 1
          },
          "autotypenumbers": "strict",
          "coloraxis": {
           "colorbar": {
            "outlinewidth": 0,
            "ticks": ""
           }
          },
          "colorscale": {
           "diverging": [
            [
             0,
             "#8e0152"
            ],
            [
             0.1,
             "#c51b7d"
            ],
            [
             0.2,
             "#de77ae"
            ],
            [
             0.3,
             "#f1b6da"
            ],
            [
             0.4,
             "#fde0ef"
            ],
            [
             0.5,
             "#f7f7f7"
            ],
            [
             0.6,
             "#e6f5d0"
            ],
            [
             0.7,
             "#b8e186"
            ],
            [
             0.8,
             "#7fbc41"
            ],
            [
             0.9,
             "#4d9221"
            ],
            [
             1,
             "#276419"
            ]
           ],
           "sequential": [
            [
             0,
             "#0d0887"
            ],
            [
             0.1111111111111111,
             "#46039f"
            ],
            [
             0.2222222222222222,
             "#7201a8"
            ],
            [
             0.3333333333333333,
             "#9c179e"
            ],
            [
             0.4444444444444444,
             "#bd3786"
            ],
            [
             0.5555555555555556,
             "#d8576b"
            ],
            [
             0.6666666666666666,
             "#ed7953"
            ],
            [
             0.7777777777777778,
             "#fb9f3a"
            ],
            [
             0.8888888888888888,
             "#fdca26"
            ],
            [
             1,
             "#f0f921"
            ]
           ],
           "sequentialminus": [
            [
             0,
             "#0d0887"
            ],
            [
             0.1111111111111111,
             "#46039f"
            ],
            [
             0.2222222222222222,
             "#7201a8"
            ],
            [
             0.3333333333333333,
             "#9c179e"
            ],
            [
             0.4444444444444444,
             "#bd3786"
            ],
            [
             0.5555555555555556,
             "#d8576b"
            ],
            [
             0.6666666666666666,
             "#ed7953"
            ],
            [
             0.7777777777777778,
             "#fb9f3a"
            ],
            [
             0.8888888888888888,
             "#fdca26"
            ],
            [
             1,
             "#f0f921"
            ]
           ]
          },
          "colorway": [
           "#636efa",
           "#EF553B",
           "#00cc96",
           "#ab63fa",
           "#FFA15A",
           "#19d3f3",
           "#FF6692",
           "#B6E880",
           "#FF97FF",
           "#FECB52"
          ],
          "font": {
           "color": "#2a3f5f"
          },
          "geo": {
           "bgcolor": "white",
           "lakecolor": "white",
           "landcolor": "#E5ECF6",
           "showlakes": true,
           "showland": true,
           "subunitcolor": "white"
          },
          "hoverlabel": {
           "align": "left"
          },
          "hovermode": "closest",
          "mapbox": {
           "style": "light"
          },
          "paper_bgcolor": "white",
          "plot_bgcolor": "#E5ECF6",
          "polar": {
           "angularaxis": {
            "gridcolor": "white",
            "linecolor": "white",
            "ticks": ""
           },
           "bgcolor": "#E5ECF6",
           "radialaxis": {
            "gridcolor": "white",
            "linecolor": "white",
            "ticks": ""
           }
          },
          "scene": {
           "xaxis": {
            "backgroundcolor": "#E5ECF6",
            "gridcolor": "white",
            "gridwidth": 2,
            "linecolor": "white",
            "showbackground": true,
            "ticks": "",
            "zerolinecolor": "white"
           },
           "yaxis": {
            "backgroundcolor": "#E5ECF6",
            "gridcolor": "white",
            "gridwidth": 2,
            "linecolor": "white",
            "showbackground": true,
            "ticks": "",
            "zerolinecolor": "white"
           },
           "zaxis": {
            "backgroundcolor": "#E5ECF6",
            "gridcolor": "white",
            "gridwidth": 2,
            "linecolor": "white",
            "showbackground": true,
            "ticks": "",
            "zerolinecolor": "white"
           }
          },
          "shapedefaults": {
           "line": {
            "color": "#2a3f5f"
           }
          },
          "ternary": {
           "aaxis": {
            "gridcolor": "white",
            "linecolor": "white",
            "ticks": ""
           },
           "baxis": {
            "gridcolor": "white",
            "linecolor": "white",
            "ticks": ""
           },
           "bgcolor": "#E5ECF6",
           "caxis": {
            "gridcolor": "white",
            "linecolor": "white",
            "ticks": ""
           }
          },
          "title": {
           "x": 0.05
          },
          "xaxis": {
           "automargin": true,
           "gridcolor": "white",
           "linecolor": "white",
           "ticks": "",
           "title": {
            "standoff": 15
           },
           "zerolinecolor": "white",
           "zerolinewidth": 2
          },
          "yaxis": {
           "automargin": true,
           "gridcolor": "white",
           "linecolor": "white",
           "ticks": "",
           "title": {
            "standoff": 15
           },
           "zerolinecolor": "white",
           "zerolinewidth": 2
          }
         }
        },
        "title": {
         "text": "Correlation Heatmap"
        },
        "width": 800,
        "xaxis": {
         "autorange": true,
         "range": [
          -0.5,
          5.5
         ],
         "ticktext": [
          "total_sqft",
          "bath",
          "balcony",
          "price",
          "bhk",
          "price_per_sqft"
         ],
         "tickvals": [
          "total_sqft",
          "bath",
          "balcony",
          "price",
          "bhk",
          "price_per_sqft"
         ],
         "title": {
          "text": "Features"
         },
         "type": "category"
        },
        "yaxis": {
         "autorange": true,
         "range": [
          -0.5,
          5.5
         ],
         "ticktext": [
          "total_sqft",
          "bath",
          "balcony",
          "price",
          "bhk",
          "price_per_sqft"
         ],
         "tickvals": [
          "total_sqft",
          "bath",
          "balcony",
          "price",
          "bhk",
          "price_per_sqft"
         ],
         "title": {
          "text": "Features"
         },
         "type": "category"
        }
       }
      },
      "image/png": "[encoded data removed]",
      "text/html": [
       "<div>                            <div id=\"27ec28fc-c588-4b03-8f85-a5a91048200d\" class=\"plotly-graph-div\" style=\"height:800px; width:800px;\"></div>            <script type=\"text/javascript\">                require([\"plotly\"], function(Plotly) {                    window.PLOTLYENV=window.PLOTLYENV || {};                                    if (document.getElementById(\"27ec28fc-c588-4b03-8f85-a5a91048200d\")) {                    Plotly.newPlot(                        \"27ec28fc-c588-4b03-8f85-a5a91048200d\",                        [{\"colorbar\":{\"title\":{\"text\":\"Correlation\"}},\"colorscale\":[[0.0,\"rgb(247,251,255)\"],[0.125,\"rgb(222,235,247)\"],[0.25,\"rgb(198,219,239)\"],[0.375,\"rgb(158,202,225)\"],[0.5,\"rgb(107,174,214)\"],[0.625,\"rgb(66,146,198)\"],[0.75,\"rgb(33,113,181)\"],[0.875,\"rgb(8,81,156)\"],[1.0,\"rgb(8,48,107)\"]],\"showscale\":true,\"x\":[\"total_sqft\",\"bath\",\"balcony\",\"price\",\"bhk\",\"price_per_sqft\"],\"y\":[\"total_sqft\",\"bath\",\"balcony\",\"price\",\"bhk\",\"price_per_sqft\"],\"z\":[[1.0,0.8115408209017506,null,0.8420505261930777,null,null],[0.8115408209017506,1.0,null,null,0.8077398516831229,null],[null,null,1.0,null,null,null],[0.8420505261930777,null,null,1.0,null,null],[null,0.8077398516831229,null,null,1.0,null],[null,null,null,null,null,1.0]],\"zmax\":1,\"zmin\":-1,\"type\":\"heatmap\"}],                        {\"template\":{\"data\":{\"histogram2dcontour\":[{\"type\":\"histogram2dcontour\",\"colorbar\":{\"outlinewidth\":0,\"ticks\":\"\"},\"colorscale\":[[0.0,\"#0d0887\"],[0.1111111111111111,\"#46039f\"],[0.2222222222222222,\"#7201a8\"],[0.3333333333333333,\"#9c179e\"],[0.4444444444444444,\"#bd3786\"],[0.5555555555555556,\"#d8576b\"],[0.6666666666666666,\"#ed7953\"],[0.7777777777777778,\"#fb9f3a\"],[0.8888888888888888,\"#fdca26\"],[1.0,\"#f0f921\"]]}],\"choropleth\":[{\"type\":\"choropleth\",\"colorbar\":{\"outlinewidth\":0,\"ticks\":\"\"}}],\"histogram2d\":[{\"type\":\"histogram2d\",\"colorbar\":{\"outlinewidth\":0,\"ticks\":\"\"},\"colorscale\":[[0.0,\"#0d0887\"],[0.1111111111111111,\"#46039f\"],[0.2222222222222222,\"#7201a8\"],[0.3333333333333333,\"#9c179e\"],[0.4444444444444444,\"#bd3786\"],[0.5555555555555556,\"#d8576b\"],[0.6666666666666666,\"#ed7953\"],[0.7777777777777778,\"#fb9f3a\"],[0.8888888888888888,\"#fdca26\"],[1.0,\"#f0f921\"]]}],\"heatmap\":[{\"type\":\"heatmap\",\"colorbar\":{\"outlinewidth\":0,\"ticks\":\"\"},\"colorscale\":[[0.0,\"#0d0887\"],[0.1111111111111111,\"#46039f\"],[0.2222222222222222,\"#7201a8\"],[0.3333333333333333,\"#9c179e\"],[0.4444444444444444,\"#bd3786\"],[0.5555555555555556,\"#d8576b\"],[0.6666666666666666,\"#ed7953\"],[0.7777777777777778,\"#fb9f3a\"],[0.8888888888888888,\"#fdca26\"],[1.0,\"#f0f921\"]]}],\"heatmapgl\":[{\"type\":\"heatmapgl\",\"colorbar\":{\"outlinewidth\":0,\"ticks\":\"\"},\"colorscale\":[[0.0,\"#0d0887\"],[0.1111111111111111,\"#46039f\"],[0.2222222222222222,\"#7201a8\"],[0.3333333333333333,\"#9c179e\"],[0.4444444444444444,\"#bd3786\"],[0.5555555555555556,\"#d8576b\"],[0.6666666666666666,\"#ed7953\"],[0.7777777777777778,\"#fb9f3a\"],[0.8888888888888888,\"#fdca26\"],[1.0,\"#f0f921\"]]}],\"contourcarpet\":[{\"type\":\"contourcarpet\",\"colorbar\":{\"outlinewidth\":0,\"ticks\":\"\"}}],\"contour\":[{\"type\":\"contour\",\"colorbar\":{\"outlinewidth\":0,\"ticks\":\"\"},\"colorscale\":[[0.0,\"#0d0887\"],[0.1111111111111111,\"#46039f\"],[0.2222222222222222,\"#7201a8\"],[0.3333333333333333,\"#9c179e\"],[0.4444444444444444,\"#bd3786\"],[0.5555555555555556,\"#d8576b\"],[0.6666666666666666,\"#ed7953\"],[0.7777777777777778,\"#fb9f3a\"],[0.8888888888888888,\"#fdca26\"],[1.0,\"#f0f921\"]]}],\"surface\":[{\"type\":\"surface\",\"colorbar\":{\"outlinewidth\":0,\"ticks\":\"\"},\"colorscale\":[[0.0,\"#0d0887\"],[0.1111111111111111,\"#46039f\"],[0.2222222222222222,\"#7201a8\"],[0.3333333333333333,\"#9c179e\"],[0.4444444444444444,\"#bd3786\"],[0.5555555555555556,\"#d8576b\"],[0.6666666666666666,\"#ed7953\"],[0.7777777777777778,\"#fb9f3a\"],[0.8888888888888888,\"#fdca26\"],[1.0,\"#f0f921\"]]}],\"mesh3d\":[{\"type\":\"mesh3d\",\"colorbar\":{\"outlinewidth\":0,\"ticks\":\"\"}}],\"scatter\":[{\"fillpattern\":{\"fillmode\":\"overlay\",\"size\":10,\"solidity\":0.2},\"type\":\"scatter\"}],\"parcoords\":[{\"type\":\"parcoords\",\"line\":{\"colorbar\":{\"outlinewidth\":0,\"ticks\":\"\"}}}],\"scatterpolargl\":[{\"type\":\"scatterpolargl\",\"marker\":{\"colorbar\":{\"outlinewidth\":0,\"ticks\":\"\"}}}],\"bar\":[{\"error_x\":{\"color\":\"#2a3f5f\"},\"error_y\":{\"color\":\"#2a3f5f\"},\"marker\":{\"line\":{\"color\":\"#E5ECF6\",\"width\":0.5},\"pattern\":{\"fillmode\":\"overlay\",\"size\":10,\"solidity\":0.2}},\"type\":\"bar\"}],\"scattergeo\":[{\"type\":\"scattergeo\",\"marker\":{\"colorbar\":{\"outlinewidth\":0,\"ticks\":\"\"}}}],\"scatterpolar\":[{\"type\":\"scatterpolar\",\"marker\":{\"colorbar\":{\"outlinewidth\":0,\"ticks\":\"\"}}}],\"histogram\":[{\"marker\":{\"pattern\":{\"fillmode\":\"overlay\",\"size\":10,\"solidity\":0.2}},\"type\":\"histogram\"}],\"scattergl\":[{\"type\":\"scattergl\",\"marker\":{\"colorbar\":{\"outlinewidth\":0,\"ticks\":\"\"}}}],\"scatter3d\":[{\"type\":\"scatter3d\",\"line\":{\"colorbar\":{\"outlinewidth\":0,\"ticks\":\"\"}},\"marker\":{\"colorbar\":{\"outlinewidth\":0,\"ticks\":\"\"}}}],\"scattermapbox\":[{\"type\":\"scattermapbox\",\"marker\":{\"colorbar\":{\"outlinewidth\":0,\"ticks\":\"\"}}}],\"scatterternary\":[{\"type\":\"scatterternary\",\"marker\":{\"colorbar\":{\"outlinewidth\":0,\"ticks\":\"\"}}}],\"scattercarpet\":[{\"type\":\"scattercarpet\",\"marker\":{\"colorbar\":{\"outlinewidth\":0,\"ticks\":\"\"}}}],\"carpet\":[{\"aaxis\":{\"endlinecolor\":\"#2a3f5f\",\"gridcolor\":\"white\",\"linecolor\":\"white\",\"minorgridcolor\":\"white\",\"startlinecolor\":\"#2a3f5f\"},\"baxis\":{\"endlinecolor\":\"#2a3f5f\",\"gridcolor\":\"white\",\"linecolor\":\"white\",\"minorgridcolor\":\"white\",\"startlinecolor\":\"#2a3f5f\"},\"type\":\"carpet\"}],\"table\":[{\"cells\":{\"fill\":{\"color\":\"#EBF0F8\"},\"line\":{\"color\":\"white\"}},\"header\":{\"fill\":{\"color\":\"#C8D4E3\"},\"line\":{\"color\":\"white\"}},\"type\":\"table\"}],\"barpolar\":[{\"marker\":{\"line\":{\"color\":\"#E5ECF6\",\"width\":0.5},\"pattern\":{\"fillmode\":\"overlay\",\"size\":10,\"solidity\":0.2}},\"type\":\"barpolar\"}],\"pie\":[{\"automargin\":true,\"type\":\"pie\"}]},\"layout\":{\"autotypenumbers\":\"strict\",\"colorway\":[\"#636efa\",\"#EF553B\",\"#00cc96\",\"#ab63fa\",\"#FFA15A\",\"#19d3f3\",\"#FF6692\",\"#B6E880\",\"#FF97FF\",\"#FECB52\"],\"font\":{\"color\":\"#2a3f5f\"},\"hovermode\":\"closest\",\"hoverlabel\":{\"align\":\"left\"},\"paper_bgcolor\":\"white\",\"plot_bgcolor\":\"#E5ECF6\",\"polar\":{\"bgcolor\":\"#E5ECF6\",\"angularaxis\":{\"gridcolor\":\"white\",\"linecolor\":\"white\",\"ticks\":\"\"},\"radialaxis\":{\"gridcolor\":\"white\",\"linecolor\":\"white\",\"ticks\":\"\"}},\"ternary\":{\"bgcolor\":\"#E5ECF6\",\"aaxis\":{\"gridcolor\":\"white\",\"linecolor\":\"white\",\"ticks\":\"\"},\"baxis\":{\"gridcolor\":\"white\",\"linecolor\":\"white\",\"ticks\":\"\"},\"caxis\":{\"gridcolor\":\"white\",\"linecolor\":\"white\",\"ticks\":\"\"}},\"coloraxis\":{\"colorbar\":{\"outlinewidth\":0,\"ticks\":\"\"}},\"colorscale\":{\"sequential\":[[0.0,\"#0d0887\"],[0.1111111111111111,\"#46039f\"],[0.2222222222222222,\"#7201a8\"],[0.3333333333333333,\"#9c179e\"],[0.4444444444444444,\"#bd3786\"],[0.5555555555555556,\"#d8576b\"],[0.6666666666666666,\"#ed7953\"],[0.7777777777777778,\"#fb9f3a\"],[0.8888888888888888,\"#fdca26\"],[1.0,\"#f0f921\"]],\"sequentialminus\":[[0.0,\"#0d0887\"],[0.1111111111111111,\"#46039f\"],[0.2222222222222222,\"#7201a8\"],[0.3333333333333333,\"#9c179e\"],[0.4444444444444444,\"#bd3786\"],[0.5555555555555556,\"#d8576b\"],[0.6666666666666666,\"#ed7953\"],[0.7777777777777778,\"#fb9f3a\"],[0.8888888888888888,\"#fdca26\"],[1.0,\"#f0f921\"]],\"diverging\":[[0,\"#8e0152\"],[0.1,\"#c51b7d\"],[0.2,\"#de77ae\"],[0.3,\"#f1b6da\"],[0.4,\"#fde0ef\"],[0.5,\"#f7f7f7\"],[0.6,\"#e6f5d0\"],[0.7,\"#b8e186\"],[0.8,\"#7fbc41\"],[0.9,\"#4d9221\"],[1,\"#276419\"]]},\"xaxis\":{\"gridcolor\":\"white\",\"linecolor\":\"white\",\"ticks\":\"\",\"title\":{\"standoff\":15},\"zerolinecolor\":\"white\",\"automargin\":true,\"zerolinewidth\":2},\"yaxis\":{\"gridcolor\":\"white\",\"linecolor\":\"white\",\"ticks\":\"\",\"title\":{\"standoff\":15},\"zerolinecolor\":\"white\",\"automargin\":true,\"zerolinewidth\":2},\"scene\":{\"xaxis\":{\"backgroundcolor\":\"#E5ECF6\",\"gridcolor\":\"white\",\"linecolor\":\"white\",\"showbackground\":true,\"ticks\":\"\",\"zerolinecolor\":\"white\",\"gridwidth\":2},\"yaxis\":{\"backgroundcolor\":\"#E5ECF6\",\"gridcolor\":\"white\",\"linecolor\":\"white\",\"showbackground\":true,\"ticks\":\"\",\"zerolinecolor\":\"white\",\"gridwidth\":2},\"zaxis\":{\"backgroundcolor\":\"#E5ECF6\",\"gridcolor\":\"white\",\"linecolor\":\"white\",\"showbackground\":true,\"ticks\":\"\",\"zerolinecolor\":\"white\",\"gridwidth\":2}},\"shapedefaults\":{\"line\":{\"color\":\"#2a3f5f\"}},\"annotationdefaults\":{\"arrowcolor\":\"#2a3f5f\",\"arrowhead\":0,\"arrowwidth\":1},\"geo\":{\"bgcolor\":\"white\",\"landcolor\":\"#E5ECF6\",\"subunitcolor\":\"white\",\"showland\":true,\"showlakes\":true,\"lakecolor\":\"white\"},\"title\":{\"x\":0.05},\"mapbox\":{\"style\":\"light\"}}},\"xaxis\":{\"title\":{\"text\":\"Features\"},\"tickvals\":[\"total_sqft\",\"bath\",\"balcony\",\"price\",\"bhk\",\"price_per_sqft\"],\"ticktext\":[\"total_sqft\",\"bath\",\"balcony\",\"price\",\"bhk\",\"price_per_sqft\"]},\"yaxis\":{\"title\":{\"text\":\"Features\"},\"tickvals\":[\"total_sqft\",\"bath\",\"balcony\",\"price\",\"bhk\",\"price_per_sqft\"],\"ticktext\":[\"total_sqft\",\"bath\",\"balcony\",\"price\",\"bhk\",\"price_per_sqft\"]},\"margin\":{\"l\":50,\"r\":50,\"t\":50,\"b\":50},\"title\":{\"text\":\"Correlation Heatmap\"},\"height\":800,\"width\":800},                        {\"responsive\": true}                    ).then(function(){\n",
       "                            \n",
       "var gd = document.getElementById('27ec28fc-c588-4b03-8f85-a5a91048200d');\n",
       "var x = new MutationObserver(function (mutations, observer) {{\n",
       "        var display = window.getComputedStyle(gd).display;\n",
       "        if (!display || display === 'none') {{\n",
       "            console.log([gd, 'removed!']);\n",
       "            Plotly.purge(gd);\n",
       "            observer.disconnect();\n",
       "        }}\n",
       "}});\n",
       "\n",
       "// Listen for the removal of the full notebook cells\n",
       "var notebookContainer = gd.closest('#notebook-container');\n",
       "if (notebookContainer) {{\n",
       "    x.observe(notebookContainer, {childList: true});\n",
       "}}\n",
       "\n",
       "// Listen for the clearing of the current output cell\n",
       "var outputEl = gd.closest('.output');\n",
       "if (outputEl) {{\n",
       "    x.observe(outputEl, {childList: true});\n",
       "}}\n",
       "\n",
       "                        })                };                });            </script>        </div>"
      ]
     },
     "metadata": {},
     "output_type": "display_data"
    }
   ],
   "source": [
    "# Import plotly for creating an interactive heatmap\n",
    "import plotly.graph_objects as go\n",
    "\n",
    "# Calculate the correlation matrix for numerical columns\n",
    "corr = home.corr(numeric_only=True)\n",
    "\n",
    "# Masking correlations less than 0.8 to focus on stronger correlations\n",
    "mask = corr < 0.8\n",
    "corr_masked = corr.copy()\n",
    "corr_masked[mask] = np.nan\n",
    "\n",
    "# Create a Heatmap using Plotly\n",
    "fig = go.Figure(data=go.Heatmap(\n",
    "    z=corr_masked.values,       # Correlation values\n",
    "    x=corr_masked.columns,      # X-axis (features)\n",
    "    y=corr_masked.columns,      # Y-axis (features)\n",
    "    colorscale='Blues',         # Color scale for heatmap\n",
    "    zmin=-1, zmax=1,            # Set range of correlation values (-1 to 1)\n",
    "    colorbar=dict(title='Correlation'),  # Title for the color bar\n",
    "    showscale=True              # Show color scale\n",
    "))\n",
    "\n",
    "# Update layout settings for better visualization\n",
    "fig.update_layout(\n",
    "    title='Correlation Heatmap',  # Title of the heatmap\n",
    "    xaxis_title='Features',       # X-axis label\n",
    "    yaxis_title='Features',       # Y-axis label\n",
    "    xaxis=dict(tickvals=list(corr_masked.columns), ticktext=list(corr_masked.columns)),\n",
    "    yaxis=dict(tickvals=list(corr_masked.columns), ticktext=list(corr_masked.columns)),\n",
    "    height=800,                   # Adjust height for better fit\n",
    "    width=800,                    # Adjust width for better fit\n",
    "    margin=dict(l=50, r=50, t=50, b=50)  # Adjust margins\n",
    ")\n",
    "\n",
    "# Display the interactive heatmap\n",
    "fig.show()"
   ]
  },
  {
   "cell_type": "markdown",
   "id": "dcd1c799-4347-437c-9df2-b2cf2aaaa9eb",
   "metadata": {},
   "source": [
    "# 24. Dropping Irrelevant Columns"
   ]
  },
  {
   "cell_type": "code",
   "execution_count": 80,
   "id": "2aa3202c-7e72-4b67-ab5d-05678fd27fe6",
   "metadata": {},
   "outputs": [],
   "source": [
    "# Drop columns that are no longer needed for the analysis or model building\n",
    "home.drop(columns=['availability', 'size', 'area_type'], inplace=True)"
   ]
  },
  {
   "cell_type": "markdown",
   "id": "36ac1453-f7b9-4f18-aaf8-ff9b5931e109",
   "metadata": {},
   "source": [
    "# 25. Cleaning and Analyzing location Column"
   ]
  },
  {
   "cell_type": "code",
   "execution_count": 81,
   "id": "792d0d0f-8c42-4a6e-9c1b-5f3f22673097",
   "metadata": {},
   "outputs": [
    {
     "data": {
      "text/plain": [
       "location\n",
       "Whitefield                  357\n",
       "Sarjapur  Road              240\n",
       "Electronic City             225\n",
       "Kanakpura Road              157\n",
       "Yelahanka                   141\n",
       "                           ... \n",
       "Chikka Banaswadi              1\n",
       "Sanne Amanikere               1\n",
       "Sai Gardens                   1\n",
       "Chikku Lakshmaiah Layout      1\n",
       "Kammagondahalli               1\n",
       "Name: count, Length: 430, dtype: int64"
      ]
     },
     "execution_count": 81,
     "metadata": {},
     "output_type": "execute_result"
    }
   ],
   "source": [
    "# Remove any leading or trailing spaces from the 'location' column\n",
    "home.location = home.location.str.strip()\n",
    "\n",
    "# Get the value counts of unique locations in the 'location' column\n",
    "location_stats = home['location'].value_counts(ascending=False)\n",
    "\n",
    "# Display the location statistics\n",
    "location_stats"
   ]
  },
  {
   "cell_type": "markdown",
   "id": "aa4588ee-2ae9-4874-abc0-b1c3ae42a2ca",
   "metadata": {},
   "source": [
    "# 26. Filtering Locations with Less Than 10 Properties"
   ]
  },
  {
   "cell_type": "code",
   "execution_count": 82,
   "id": "ae0f34e0-9a75-4634-82cd-7ac7aed46e0a",
   "metadata": {},
   "outputs": [
    {
     "data": {
      "text/plain": [
       "location\n",
       "Neeladri Nagar              10\n",
       "Munnekollal                 10\n",
       "Kannamangala                10\n",
       "Gubbalala                   10\n",
       "Anandapura                  10\n",
       "                            ..\n",
       "Chikka Banaswadi             1\n",
       "Sanne Amanikere              1\n",
       "Sai Gardens                  1\n",
       "Chikku Lakshmaiah Layout     1\n",
       "Kammagondahalli              1\n",
       "Name: count, Length: 319, dtype: int64"
      ]
     },
     "execution_count": 82,
     "metadata": {},
     "output_type": "execute_result"
    }
   ],
   "source": [
    "# Filter the location statistics to find locations with 10 or fewer properties\n",
    "location_stats_less_than_10 = location_stats[location_stats <= 10]\n",
    "\n",
    "# Display the locations with less than or equal to 10 properties\n",
    "location_stats_less_than_10"
   ]
  },
  {
   "cell_type": "markdown",
   "id": "18ee2ac9-4def-41a0-bed9-4f3c37e07826",
   "metadata": {},
   "source": [
    "# 27. Merging Rare Locations and Removing Them"
   ]
  },
  {
   "cell_type": "code",
   "execution_count": 83,
   "id": "790674ea-2427-40a9-94df-8e39e1d02b99",
   "metadata": {},
   "outputs": [],
   "source": [
    "# Replace locations with fewer than or equal to 10 properties with 'other'\n",
    "home.location = home.location.apply(lambda x: 'other' if x in location_stats_less_than_10 else x)\n",
    "\n",
    "# Remove all rows where the location is 'other'\n",
    "home = home[home.location != 'other']"
   ]
  },
  {
   "cell_type": "markdown",
   "id": "50ade13d-a56e-4b92-8218-ddc196c7cb50",
   "metadata": {},
   "source": [
    "# 28. Removing Outliers Based on bath and bhk Relationship"
   ]
  },
  {
   "cell_type": "code",
   "execution_count": 84,
   "id": "a5677c20-bc59-4263-8765-f84555d257de",
   "metadata": {},
   "outputs": [],
   "source": [
    "# Remove rows where the number of bathrooms is greater than the number of bedrooms + 2\n",
    "home = home[home.bath < home.bhk + 2]"
   ]
  },
  {
   "cell_type": "markdown",
   "id": "54a1f43d-dd46-41b9-9868-eca896a8be56",
   "metadata": {},
   "source": [
    "# 29. Visualizing the Distribution of Numerical Features"
   ]
  },
  {
   "cell_type": "code",
   "execution_count": 85,
   "id": "225e926d-3d41-4aa5-ae8b-69302828b4d1",
   "metadata": {},
   "outputs": [
    {
     "data": {
      "image/png": "[encoded data removed]",
      "text/plain": [
       "<Figure size 1000x800 with 6 Axes>"
      ]
     },
     "metadata": {},
     "output_type": "display_data"
    }
   ],
   "source": [
    "# Select all numerical columns from the DataFrame\n",
    "num_ = home.select_dtypes(exclude='object')\n",
    "\n",
    "# Create subplots to visualize the distribution of each numerical feature\n",
    "fig = plt.figure(figsize=(10, 8))\n",
    "\n",
    "# Loop through each numerical column and create a subplot for each\n",
    "for index, col in enumerate(num_):\n",
    "    plt.subplot(3, 2, index + 1)  # Create subplots in a grid (3 rows, 2 columns)\n",
    "    sns.distplot(num_.loc[:, col], kde=False)  # Plot histogram for each numerical column\n",
    "\n",
    "# Adjust the layout to prevent overlap of the plots\n",
    "fig.tight_layout(pad=1.0)"
   ]
  },
  {
   "cell_type": "markdown",
   "id": "e8d02b0a-14fd-4dd7-8a96-2563f2d99d1e",
   "metadata": {},
   "source": [
    "# 30. One-Hot Encoding of location Column"
   ]
  },
  {
   "cell_type": "code",
   "execution_count": 86,
   "id": "de3ce939-002b-4c3f-ba7a-ddad2bf31b83",
   "metadata": {},
   "outputs": [],
   "source": [
    "# Perform one-hot encoding on the 'location' column\n",
    "dummies = pd.get_dummies(home.location)"
   ]
  },
  {
   "cell_type": "markdown",
   "id": "191696bf-9600-4694-98bd-2894c1dcef0e",
   "metadata": {},
   "source": [
    "# 31. Merging One-Hot Encoded Columns and Dropping Unnecessary Columns"
   ]
  },
  {
   "cell_type": "code",
   "execution_count": 87,
   "id": "ac09fa92-fcee-46e3-a792-6d25375113b8",
   "metadata": {},
   "outputs": [],
   "source": [
    "# Concatenate the one-hot encoded columns with the original dataset\n",
    "home = pd.concat([home, dummies], axis='columns')\n",
    "\n",
    "# Drop the original 'location' column as it's now encoded\n",
    "home1 = home.drop('location', axis=1)\n",
    "\n",
    "# Drop 'balcony' and 'price_per_sqft' columns as they are no longer needed for modeling\n",
    "home1 = home1.drop(columns=['balcony', 'price_per_sqft'])"
   ]
  },
  {
   "cell_type": "markdown",
   "id": "1a66c516-6732-49c3-9600-56ea296ed242",
   "metadata": {},
   "source": [
    "# 32. Resetting the Index of the DataFrame"
   ]
  },
  {
   "cell_type": "code",
   "execution_count": 88,
   "id": "292f6480-02ba-48a9-ae47-30ee621d845d",
   "metadata": {},
   "outputs": [],
   "source": [
    "# Reset the index of the DataFrame and drop the old index\n",
    "home1.reset_index(drop=True, inplace=True)"
   ]
  },
  {
   "cell_type": "markdown",
   "id": "71e3da98-65ed-4af3-b5f0-93850a403fd9",
   "metadata": {},
   "source": [
    "# 33. Splitting Features and Target Variables"
   ]
  },
  {
   "cell_type": "code",
   "execution_count": 89,
   "id": "ff44e45a-dae9-4652-adda-0339a3b21dd3",
   "metadata": {},
   "outputs": [],
   "source": [
    "# Define the features (X) by dropping the 'price' column\n",
    "X = home1.drop('price', axis=1).values\n",
    "\n",
    "# Define the target variable (y) as the 'price' column\n",
    "y = home1.price.values"
   ]
  },
  {
   "cell_type": "markdown",
   "id": "6dbd4b66-6753-4b42-a387-b72ecb731db6",
   "metadata": {},
   "source": [
    "# 34. Reshaping the Target Variable (y)"
   ]
  },
  {
   "cell_type": "code",
   "execution_count": 90,
   "id": "7612e273-9da9-43e1-b91b-7ede61e30b04",
   "metadata": {},
   "outputs": [],
   "source": [
    "# Reshape the target variable (y) to ensure it has the correct shape for model training\n",
    "y = y[:, np.newaxis]"
   ]
  },
  {
   "cell_type": "markdown",
   "id": "f850bf24-2d52-462f-b0da-20c83c590b3b",
   "metadata": {},
   "source": [
    "# 35. Standardizing the Features"
   ]
  },
  {
   "cell_type": "code",
   "execution_count": 91,
   "id": "3ca48fa7-637d-40f9-a11a-99031a2a5efd",
   "metadata": {},
   "outputs": [],
   "source": [
    "from sklearn import preprocessing\n",
    "\n",
    "# Initialize the StandardScaler for feature scaling\n",
    "sc = preprocessing.StandardScaler()\n",
    "\n",
    "# Apply StandardScaler to standardize the features (X)\n",
    "X1 = sc.fit_transform(X)"
   ]
  },
  {
   "cell_type": "markdown",
   "id": "52f0fd49-7bae-4ad1-bc87-5b159a1eb47d",
   "metadata": {},
   "source": [
    "# 36. Another Way to Standardize the Features"
   ]
  },
  {
   "cell_type": "code",
   "execution_count": 92,
   "id": "13c689af-5d7e-4c83-b3ab-4a638d173f96",
   "metadata": {},
   "outputs": [],
   "source": [
    "# Apply another method to standardize the features (X)\n",
    "Std_x1 = preprocessing.scale(X)"
   ]
  },
  {
   "cell_type": "markdown",
   "id": "9e16ac70-1e60-46ed-9fd3-fe1f6706eb44",
   "metadata": {},
   "source": [
    "# 37. Importing Required Libraries for Cross-Validation and Linear Regression"
   ]
  },
  {
   "cell_type": "code",
   "execution_count": 93,
   "id": "e0532b3c-709c-4dc3-8d5b-78d4f24b34d4",
   "metadata": {},
   "outputs": [],
   "source": [
    "# Import necessary modules for cross-validation and linear regression\n",
    "from sklearn.model_selection import cross_val_score, cross_val_predict\n",
    "from sklearn.linear_model import LinearRegression\n",
    "lr = LinearRegression()  # Initialize a Linear Regression model\n",
    "from sklearn.model_selection import cross_validate as CV"
   ]
  },
  {
   "cell_type": "markdown",
   "id": "0cd83290-3ab6-4d77-91cd-a8376d1e28bc",
   "metadata": {},
   "source": [
    "# 38. Performing Cross-Validation and Evaluating Model Performance"
   ]
  },
  {
   "cell_type": "code",
   "execution_count": 94,
   "id": "4e591484-379d-4920-ad6b-7ffd87aae7b3",
   "metadata": {},
   "outputs": [
    {
     "name": "stdout",
     "output_type": "stream",
     "text": [
      "-2.7345817173749555e+30\n"
     ]
    }
   ],
   "source": [
    "# Perform cross-validation with 5 folds and calculate the negative mean squared error\n",
    "cross1 = cross_val_score(lr, Std_x1, y, cv=5, scoring='neg_mean_squared_error')\n",
    "\n",
    "# Print the mean of the negative mean squared error scores\n",
    "print(cross1.mean())"
   ]
  },
  {
   "cell_type": "markdown",
   "id": "14fa68f7-fb7d-4f99-b9b9-9b8459000748",
   "metadata": {},
   "source": [
    "# 39. Splitting the Data into Training and Testing Sets"
   ]
  },
  {
   "cell_type": "code",
   "execution_count": 95,
   "id": "12ddeb52-870e-44b0-b3ae-0b2c19774630",
   "metadata": {},
   "outputs": [],
   "source": [
    "# Split the data into training and testing sets (30% for testing)\n",
    "X_train, X_test, y_train, y_test = train_test_split(X1, y, test_size=0.3, random_state=10)"
   ]
  },
  {
   "cell_type": "code",
   "execution_count": 96,
   "id": "5cb027c1-73ca-4606-a2dd-547b20d3cd8f",
   "metadata": {},
   "outputs": [
    {
     "data": {
      "text/plain": [
       "(3012, 114)"
      ]
     },
     "execution_count": 96,
     "metadata": {},
     "output_type": "execute_result"
    }
   ],
   "source": [
    "X_train.shape"
   ]
  },
  {
   "cell_type": "markdown",
   "id": "c5c7de10-8065-4cf4-8a25-c2d149732572",
   "metadata": {},
   "source": [
    "# 40. Importing Additional Models and Evaluation Metrics"
   ]
  },
  {
   "cell_type": "code",
   "execution_count": 40,
   "id": "6f91c423-2ed6-4d6a-b59a-b76e6e1ac804",
   "metadata": {},
   "outputs": [],
   "source": [
    "# Importing regression models and evaluation metrics\n",
    "from sklearn.linear_model import LinearRegression, Ridge, Lasso, ElasticNet\n",
    "from sklearn.tree import DecisionTreeRegressor\n",
    "from sklearn.ensemble import RandomForestRegressor, GradientBoostingRegressor\n",
    "from sklearn.metrics import mean_absolute_error, mean_squared_error, r2_score"
   ]
  },
  {
   "cell_type": "markdown",
   "id": "694cea55-6781-4aa0-8f31-1116619514ac",
   "metadata": {},
   "source": [
    "# 41. Defining a List of Models for Evaluation"
   ]
  },
  {
   "cell_type": "code",
   "execution_count": 41,
   "id": "152589f2-5ad5-4319-8aab-6f89dee6a220",
   "metadata": {},
   "outputs": [],
   "source": [
    "# List of models to evaluate\n",
    "models = [\n",
    "    LinearRegression(),\n",
    "    Ridge(),\n",
    "    Lasso(alpha=1.0),\n",
    "    ElasticNet(),\n",
    "    DecisionTreeRegressor(),\n",
    "    RandomForestRegressor(),\n",
    "    GradientBoostingRegressor(),\n",
    "]"
   ]
  },
  {
   "cell_type": "markdown",
   "id": "a3e1ee5b-2b2d-4de6-aca6-58de45a0eb6d",
   "metadata": {},
   "source": [
    "# 42. Training Models and Evaluating Performance"
   ]
  },
  {
   "cell_type": "code",
   "execution_count": 57,
   "id": "92565d14-b1e1-466c-8cab-5b444cb5c826",
   "metadata": {},
   "outputs": [],
   "source": [
    "# Initialize lists to store model names and evaluation metrics\n",
    "model_names = []\n",
    "mae_Accuracy = []\n",
    "mse_Accuracy = []\n",
    "r2_Accuracy = []\n",
    "import joblib \n",
    "# Loop through each model in the models list\n",
    "for algo in models:\n",
    "    # Train the model on the training data\n",
    "    algo.fit(X_train, y_train)\n",
    "    \n",
    "    # Make predictions using the test data\n",
    "    y_pred = algo.predict(X_test)\n",
    "    \n",
    "    # Calculate evaluation metrics\n",
    "    mae = mean_absolute_error(y_test, y_pred)\n",
    "    mse = mean_squared_error(y_test, y_pred)\n",
    "    r2 = r2_score(y_test, y_pred)\n",
    "    joblib.dump(algo, f\"{model_name}.pkl\")\n",
    "    \n",
    "    # Append the results to the respective lists\n",
    "    model_names.append(algo.__class__.__name__)\n",
    "    mae_Accuracy.append(mae)\n",
    "    mse_Accuracy.append(mse)\n",
    "    r2_Accuracy.append(r2)"
   ]
  },
  {
   "cell_type": "markdown",
   "id": "e30d17ae-e62c-4e82-9ad2-8bbb4c29f315",
   "metadata": {},
   "source": [
    "# 43. Creating a DataFrame to Store Model Evaluation Results"
   ]
  },
  {
   "cell_type": "code",
   "execution_count": 43,
   "id": "c889a900-82ee-4f62-852d-ea42040e187c",
   "metadata": {},
   "outputs": [],
   "source": [
    "# Create a DataFrame to store model names and their corresponding evaluation metrics\n",
    "model_df = pd.DataFrame({\n",
    "    'Model': model_names,\n",
    "    'mae_Accuracy': mae_Accuracy,\n",
    "    'mse_Accuracy': mse_Accuracy,\n",
    "    'r2_Accuracy': r2_Accuracy,\n",
    "})"
   ]
  },
  {
   "cell_type": "markdown",
   "id": "477cd7cf-7727-44cb-b0a4-061fe4687da7",
   "metadata": {},
   "source": [
    "# 44. Sorting the Model Results by R² Score"
   ]
  },
  {
   "cell_type": "code",
   "execution_count": 44,
   "id": "a7dbfafa-9154-4ac7-a693-824752dc8a7b",
   "metadata": {},
   "outputs": [
    {
     "data": {
      "text/html": [
       "<div>\n",
       "<style scoped>\n",
       "    .dataframe tbody tr th:only-of-type {\n",
       "        vertical-align: middle;\n",
       "    }\n",
       "\n",
       "    .dataframe tbody tr th {\n",
       "        vertical-align: top;\n",
       "    }\n",
       "\n",
       "    .dataframe thead th {\n",
       "        text-align: right;\n",
       "    }\n",
       "</style>\n",
       "<table border=\"1\" class=\"dataframe\">\n",
       "  <thead>\n",
       "    <tr style=\"text-align: right;\">\n",
       "      <th></th>\n",
       "      <th>Model</th>\n",
       "      <th>mae_Accuracy</th>\n",
       "      <th>mse_Accuracy</th>\n",
       "      <th>r2_Accuracy</th>\n",
       "    </tr>\n",
       "  </thead>\n",
       "  <tbody>\n",
       "    <tr>\n",
       "      <th>5</th>\n",
       "      <td>RandomForestRegressor</td>\n",
       "      <td>9.124345</td>\n",
       "      <td>221.866915</td>\n",
       "      <td>0.904751</td>\n",
       "    </tr>\n",
       "    <tr>\n",
       "      <th>1</th>\n",
       "      <td>Ridge</td>\n",
       "      <td>10.355644</td>\n",
       "      <td>235.393186</td>\n",
       "      <td>0.898945</td>\n",
       "    </tr>\n",
       "    <tr>\n",
       "      <th>0</th>\n",
       "      <td>LinearRegression</td>\n",
       "      <td>10.353813</td>\n",
       "      <td>235.453443</td>\n",
       "      <td>0.898919</td>\n",
       "    </tr>\n",
       "    <tr>\n",
       "      <th>6</th>\n",
       "      <td>GradientBoostingRegressor</td>\n",
       "      <td>11.753742</td>\n",
       "      <td>263.558744</td>\n",
       "      <td>0.886853</td>\n",
       "    </tr>\n",
       "    <tr>\n",
       "      <th>2</th>\n",
       "      <td>Lasso</td>\n",
       "      <td>12.546938</td>\n",
       "      <td>288.335751</td>\n",
       "      <td>0.876216</td>\n",
       "    </tr>\n",
       "    <tr>\n",
       "      <th>4</th>\n",
       "      <td>DecisionTreeRegressor</td>\n",
       "      <td>10.229655</td>\n",
       "      <td>329.731549</td>\n",
       "      <td>0.858445</td>\n",
       "    </tr>\n",
       "    <tr>\n",
       "      <th>3</th>\n",
       "      <td>ElasticNet</td>\n",
       "      <td>13.668323</td>\n",
       "      <td>382.488912</td>\n",
       "      <td>0.835796</td>\n",
       "    </tr>\n",
       "  </tbody>\n",
       "</table>\n",
       "</div>"
      ],
      "text/plain": [
       "                       Model  mae_Accuracy  mse_Accuracy  r2_Accuracy\n",
       "5      RandomForestRegressor      9.124345    221.866915     0.904751\n",
       "1                      Ridge     10.355644    235.393186     0.898945\n",
       "0           LinearRegression     10.353813    235.453443     0.898919\n",
       "6  GradientBoostingRegressor     11.753742    263.558744     0.886853\n",
       "2                      Lasso     12.546938    288.335751     0.876216\n",
       "4      DecisionTreeRegressor     10.229655    329.731549     0.858445\n",
       "3                 ElasticNet     13.668323    382.488912     0.835796"
      ]
     },
     "execution_count": 44,
     "metadata": {},
     "output_type": "execute_result"
    }
   ],
   "source": [
    "# Sort the DataFrame by R² accuracy in descending order to see the best-performing models\n",
    "model_df.sort_values(by='r2_Accuracy', ascending=False)"
   ]
  },
  {
   "cell_type": "code",
   "execution_count": 53,
   "id": "b80249bf-186c-4ef5-9e75-3969a355f63a",
   "metadata": {},
   "outputs": [
    {
     "name": "stdout",
     "output_type": "stream",
     "text": [
      "(3012, 114)\n"
     ]
    }
   ],
   "source": [
    "print(X_train.shape)  # This will show the shape (number of rows, number of columns)"
   ]
  },
  {
   "cell_type": "code",
   "execution_count": null,
   "id": "eb52db00-5e1d-4291-a33d-dfffb8467746",
   "metadata": {},
   "outputs": [],
   "source": []
  },
  {
   "cell_type": "code",
   "execution_count": null,
   "id": "5a8a7f5d-14ed-473d-acdd-4e22032c86da",
   "metadata": {},
   "outputs": [],
   "source": []
  }
 ],
 "metadata": {
  "kernelspec": {
   "display_name": "Python 3 (ipykernel)",
   "language": "python",
   "name": "python3"
  },
  "language_info": {
   "codemirror_mode": {
    "name": "ipython",
    "version": 3
   },
   "file_extension": ".py",
   "mimetype": "text/x-python",
   "name": "python",
   "nbconvert_exporter": "python",
   "pygments_lexer": "ipython3",
   "version": "3.12.7"
  }
 },
 "nbformat": 4,
 "nbformat_minor": 5
}
