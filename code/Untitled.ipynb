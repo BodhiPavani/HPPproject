{
 "cells": [
  {
   "cell_type": "markdown",
   "id": "5980c5de-21a9-4697-8c0a-246c115aeecc",
   "metadata": {},
   "source": [
    "# Step 1: Import Libraries"
   ]
  },
  {
   "cell_type": "code",
   "execution_count": 1,
   "id": "caf97fb3-603c-4ba5-9ef1-18ef03c232fd",
   "metadata": {},
   "outputs": [],
   "source": [
    "# Step 1: Import necessary libraries\n",
    "import pandas as pd      # For data manipulation\n",
    "import numpy as np       # For numerical computations\n",
    "import matplotlib.pyplot as plt  # For plotting\n",
    "import seaborn as sns    # For advanced visualizations\n",
    "\n",
    "# Libraries for machine learning tasks\n",
    "from sklearn.model_selection import train_test_split  # For splitting data\n",
    "from sklearn.linear_model import LinearRegression       # Our ML model\n",
    "from sklearn.metrics import mean_absolute_error, mean_squared_error, r2_score  # For evaluation\n",
    "\n",
    "# Optional: To suppress warnings during development\n",
    "import warnings\n",
    "warnings.filterwarnings(\"ignore\")"
   ]
  },
  {
   "cell_type": "markdown",
   "id": "c5088cfc-a56d-42e2-a1ad-6fa9d0246387",
   "metadata": {},
   "source": [
    "# Step 2: Load the Dataset"
   ]
  },
  {
   "cell_type": "code",
   "execution_count": 2,
   "id": "c6b7bdf7-ab70-480a-957a-37c3e45fef8b",
   "metadata": {},
   "outputs": [
    {
     "name": "stdout",
     "output_type": "stream",
     "text": [
      "Dataset loaded successfully!\n",
      "              area_type   availability                  location       size  \\\n",
      "0  Super built-up  Area         19-Dec  Electronic City Phase II      2 BHK   \n",
      "1            Plot  Area  Ready To Move          Chikka Tirupathi  4 Bedroom   \n",
      "2        Built-up  Area  Ready To Move               Uttarahalli      3 BHK   \n",
      "3  Super built-up  Area  Ready To Move        Lingadheeranahalli      3 BHK   \n",
      "4  Super built-up  Area  Ready To Move                  Kothanur      2 BHK   \n",
      "\n",
      "   society total_sqft  bath  balcony   price  \n",
      "0  Coomee        1056   2.0      1.0   39.07  \n",
      "1  Theanmp       2600   5.0      3.0  120.00  \n",
      "2      NaN       1440   2.0      3.0   62.00  \n",
      "3  Soiewre       1521   3.0      1.0   95.00  \n",
      "4      NaN       1200   2.0      1.0   51.00  \n"
     ]
    }
   ],
   "source": [
    "# Step 2: Load the dataset\n",
    "data = pd.read_csv('Dataset/Bengaluru_House_Data.csv')\n",
    "print(\"Dataset loaded successfully!\")\n",
    "print(data.head())"
   ]
  },
  {
   "cell_type": "markdown",
   "id": "a322e0be-a4f7-40ce-8519-c27e7f98c099",
   "metadata": {},
   "source": [
    "# Step 3: Exploratory Data Analysis (EDA)"
   ]
  },
  {
   "cell_type": "code",
   "execution_count": 3,
   "id": "f9e22ca9-50e9-4dba-a007-933b31f6cd11",
   "metadata": {},
   "outputs": [
    {
     "name": "stdout",
     "output_type": "stream",
     "text": [
      "\n",
      "Dataset Information:\n",
      "<class 'pandas.core.frame.DataFrame'>\n",
      "RangeIndex: 13320 entries, 0 to 13319\n",
      "Data columns (total 9 columns):\n",
      " #   Column        Non-Null Count  Dtype  \n",
      "---  ------        --------------  -----  \n",
      " 0   area_type     13320 non-null  object \n",
      " 1   availability  13320 non-null  object \n",
      " 2   location      13319 non-null  object \n",
      " 3   size          13304 non-null  object \n",
      " 4   society       7818 non-null   object \n",
      " 5   total_sqft    13320 non-null  object \n",
      " 6   bath          13247 non-null  float64\n",
      " 7   balcony       12711 non-null  float64\n",
      " 8   price         13320 non-null  float64\n",
      "dtypes: float64(3), object(6)\n",
      "memory usage: 936.7+ KB\n",
      "\n",
      "Missing values in each column:\n",
      "area_type          0\n",
      "availability       0\n",
      "location           1\n",
      "size              16\n",
      "society         5502\n",
      "total_sqft         0\n",
      "bath              73\n",
      "balcony          609\n",
      "price              0\n",
      "dtype: int64\n"
     ]
    }
   ],
   "source": [
    "# Step 3: Exploratory Data Analysis (EDA)\n",
    "print(\"\\nDataset Information:\")\n",
    "data.info()  # Provides data types and non-null counts\n",
    "\n",
    "print(\"\\nMissing values in each column:\")\n",
    "print(data.isnull().sum())  # Displays count of missing values per column"
   ]
  },
  {
   "cell_type": "markdown",
   "id": "fd8abdfd-f92e-4874-913b-d3dba5f78e7c",
   "metadata": {},
   "source": [
    "# Step 4: Data Cleaning & Preprocessing"
   ]
  },
  {
   "cell_type": "markdown",
   "id": "c620f78b-1c1a-4984-8b5a-460ad204ee8d",
   "metadata": {},
   "source": [
    "# 4.1: Drop Unnecessary Columns"
   ]
  },
  {
   "cell_type": "code",
   "execution_count": 4,
   "id": "ecff9b6b-0cde-401f-bd73-cdd2c2ea8c65",
   "metadata": {},
   "outputs": [],
   "source": [
    "# Step 4.1: Drop unnecessary columns (if they exist in your dataset)\n",
    "columns_to_drop = ['society', 'availability']  # Example columns to drop\n",
    "data = data.drop(columns=columns_to_drop, errors='ignore')  # errors='ignore' if columns not present"
   ]
  },
  {
   "cell_type": "markdown",
   "id": "83a50fff-9eb1-4133-b9a8-cf3213157cbe",
   "metadata": {},
   "source": [
    "# 4.2: Convert total_sqft to Numeric"
   ]
  },
  {
   "cell_type": "code",
   "execution_count": 5,
   "id": "ef0e76bc-67ff-4659-a92b-42e618be2fb3",
   "metadata": {},
   "outputs": [],
   "source": [
    "# Step 4.2: Function to convert total_sqft into a numeric value\n",
    "def convert_sqft_to_num(x):\n",
    "    try:\n",
    "        # Check if the value is a range\n",
    "        if '-' in x:\n",
    "            tokens = x.split('-')\n",
    "            return (float(tokens[0]) + float(tokens[1])) / 2\n",
    "        else:\n",
    "            return float(x)\n",
    "    except:\n",
    "        return np.nan\n",
    "\n",
    "# Apply the function and drop rows where conversion fails\n",
    "data['total_sqft'] = data['total_sqft'].apply(convert_sqft_to_num)\n",
    "data = data.dropna(subset=['total_sqft'])"
   ]
  },
  {
   "cell_type": "markdown",
   "id": "9ff7ae3b-47ee-4ee9-a367-99d5eff50115",
   "metadata": {},
   "source": [
    "# 4.3: Extract Number of Bedrooms (BHK)"
   ]
  },
  {
   "cell_type": "code",
   "execution_count": 6,
   "id": "b75354e4-e0b3-4ccc-9903-b84c7aee92b8",
   "metadata": {},
   "outputs": [],
   "source": [
    "# Step 4.3: Extract number of BHK from the 'size' column with error handling\n",
    "\n",
    "def extract_bhk(x):\n",
    "    # If the value is missing, return NaN\n",
    "    if pd.isna(x):\n",
    "        return np.nan\n",
    "    # If the value is a string (e.g., \"2 BHK\")\n",
    "    if isinstance(x, str):\n",
    "        try:\n",
    "            return int(x.split(' ')[0])\n",
    "        except Exception as e:\n",
    "            return np.nan\n",
    "    # If the value is already numeric (e.g., a float like 2.0)\n",
    "    if isinstance(x, (int, float)):\n",
    "        return int(x)\n",
    "    return np.nan\n",
    "\n",
    "# Apply the function to create a new 'bhk' column\n",
    "data['bhk'] = data['size'].apply(extract_bhk)\n",
    "\n",
    "# Optionally, drop rows where bhk could not be determined\n",
    "data.dropna(subset=['bhk'], inplace=True)\n",
    "\n",
    "# Convert 'bhk' to integer type\n",
    "data['bhk'] = data['bhk'].astype(int)\n",
    "\n",
    "# Drop the original 'size' column as it is no longer needed\n",
    "data.drop('size', axis=1, inplace=True)"
   ]
  },
  {
   "cell_type": "markdown",
   "id": "2e6f3ff1-ba6b-4033-9ab0-c915f5c87f54",
   "metadata": {},
   "source": [
    "# Step 5: Handle Categorical Variables"
   ]
  },
  {
   "cell_type": "markdown",
   "id": "9c01d36f-030f-44fa-b667-923b1a008dde",
   "metadata": {},
   "source": [
    "# 5.1: Process the location Column"
   ]
  },
  {
   "cell_type": "code",
   "execution_count": 7,
   "id": "4a612a3c-c4f2-424e-8b7c-9a1352de8535",
   "metadata": {},
   "outputs": [],
   "source": [
    "# Step 5.1: Group rare locations under 'other'\n",
    "location_stats = data['location'].value_counts()\n",
    "rare_locations = location_stats[location_stats <= 10].index  # Threshold can be adjusted\n",
    "data['location'] = data['location'].apply(lambda x: 'other' if x in rare_locations else x)\n",
    "\n",
    "# Step 5.2: One-hot encode the 'location' column\n",
    "data = pd.get_dummies(data, columns=['location'], drop_first=True)"
   ]
  },
  {
   "cell_type": "markdown",
   "id": "55f96a72-f718-4e1d-921d-3ed251b5abd4",
   "metadata": {},
   "source": [
    "# Step 6: Feature Selection & Target Variable"
   ]
  },
  {
   "cell_type": "code",
   "execution_count": 8,
   "id": "6691e80d-ea02-4a8b-a5de-9486b3ce9386",
   "metadata": {},
   "outputs": [],
   "source": [
    "# Step 6: Define features and target variable\n",
    "# Initial features from our data\n",
    "feature_columns = ['total_sqft', 'bath', 'balcony', 'bhk']\n",
    "\n",
    "# Add any columns generated from one-hot encoding (e.g., those starting with 'location_')\n",
    "location_columns = [col for col in data.columns if col.startswith('location_')]\n",
    "feature_columns.extend(location_columns)\n",
    "\n",
    "# Feature matrix and target vector\n",
    "X = data[feature_columns]\n",
    "y = data['price']  # Ensure 'price' is present in your dataset and is your target"
   ]
  },
  {
   "cell_type": "markdown",
   "id": "093b9e5e-2915-46af-a10e-81343f294712",
   "metadata": {},
   "source": [
    "# Step 7: Split the Data into Training and Testing Sets"
   ]
  },
  {
   "cell_type": "code",
   "execution_count": 9,
   "id": "33777d85-9cdb-47a9-9d6b-4e42773ac47c",
   "metadata": {},
   "outputs": [
    {
     "name": "stdout",
     "output_type": "stream",
     "text": [
      "\n",
      "Data split into training and testing sets.\n"
     ]
    }
   ],
   "source": [
    "# Step 7: Split the data into training and testing sets\n",
    "X_train, X_test, y_train, y_test = train_test_split(\n",
    "    X, y, test_size=0.2, random_state=42\n",
    ")\n",
    "print(\"\\nData split into training and testing sets.\")"
   ]
  },
  {
   "cell_type": "markdown",
   "id": "d9b1a342-8623-47cf-9ceb-54c410fc402d",
   "metadata": {},
   "source": [
    "# Step 7.5: Handle Missing Values in the Feature Matrix"
   ]
  },
  {
   "cell_type": "code",
   "execution_count": 10,
   "id": "505413ab-6ba6-4658-ba64-4a98920df528",
   "metadata": {},
   "outputs": [],
   "source": [
    "from sklearn.impute import SimpleImputer\n",
    "\n",
    "# Create an imputer object with a mean filling strategy\n",
    "imputer = SimpleImputer(strategy='mean')\n",
    "\n",
    "# Fit the imputer on the training data and transform both training and test data\n",
    "X_train = imputer.fit_transform(X_train)\n",
    "X_test = imputer.transform(X_test)"
   ]
  },
  {
   "cell_type": "markdown",
   "id": "defa0b73-d2af-474f-87bd-b446267a2a5f",
   "metadata": {},
   "source": [
    "# Step 8: Train the Machine Learning Model"
   ]
  },
  {
   "cell_type": "code",
   "execution_count": 11,
   "id": "36517ca1-0ceb-48b9-a975-64f91ce4fba8",
   "metadata": {},
   "outputs": [
    {
     "name": "stdout",
     "output_type": "stream",
     "text": [
      "\n",
      "Pipeline training completed.\n",
      "Intercept: 112.54817980388458\n",
      "Coefficients: [ 6.24470566e+01  5.18202615e+01 -2.07309222e+00 -1.34160721e+01\n",
      "  3.16767975e+00  2.84012947e+00 -5.74237367e-02  4.72657452e+00\n",
      "  2.04748860e+00  1.95945346e-01  1.50342301e+00  2.38172098e+00\n",
      "  3.46809792e-01  3.12921304e-01  1.39046168e-02 -6.05315308e-01\n",
      "  4.56259643e-01  1.12237930e+00  2.30828099e+00  1.03922536e+00\n",
      "  2.78680614e-01 -1.82307665e-01  4.71873576e-01 -8.20801569e-02\n",
      "  7.19871011e-01  1.29889637e-01  1.05623974e+00  1.02984900e+00\n",
      "  3.99648196e+00  1.06199201e+00  7.86825777e-03  6.92284697e-01\n",
      "  1.51014041e+00  2.56522767e+00  6.20826892e+00  8.98059961e-01\n",
      " -2.84556393e-01 -1.49200042e-01  8.00209042e-01 -3.41900696e-01\n",
      "  2.12421684e-01  2.24111750e+00  4.71232268e+00  3.37291507e+00\n",
      " -1.23559376e-01 -6.86089379e-01 -6.41313416e-01  1.08981869e+00\n",
      "  6.10894109e+00  1.90473311e-01  1.45481769e-01  7.15042283e-01\n",
      "  2.19624224e+00  4.14527020e-01 -1.13712536e+00 -2.04489291e-01\n",
      " -1.03136277e+00  7.36994570e+00  1.08964838e+00  2.55664409e-01\n",
      "  1.06455056e+00  4.74188956e+00  3.80110375e-02 -3.58846093e-01\n",
      " -2.80216956e+00 -7.15232928e-01  1.14410588e+00  8.57575960e-01\n",
      "  4.25606354e+00  2.25514529e+00  1.77786270e+01  2.28160381e-01\n",
      "  6.42015983e-01  1.35164560e+00  9.83757403e-01  1.29449553e+00\n",
      " -1.05973478e-01 -1.27789545e-01  3.59588391e+00 -2.36663135e-01\n",
      "  1.72202792e-01  1.13633044e+00 -3.43509421e-01  5.78321984e-01\n",
      "  5.67534671e+00  1.26792591e-01  7.74116647e-01  3.81363511e+00\n",
      " -3.60864825e-01 -1.03269987e-01  6.25785144e-01 -3.25634685e-03\n",
      "  8.03001013e-01  5.35352995e+00  2.10456982e+00  1.96424371e+00\n",
      "  1.14083490e+00  9.48306268e-01  1.53641040e+00  4.14085717e+00\n",
      "  3.55996067e+00  1.09184552e+00  3.61355822e-01  1.63085608e+00\n",
      "  8.66605703e-01  4.57319912e-02 -4.28083979e-01  3.76081048e-01\n",
      "  4.79738133e-01  1.96951139e+00 -7.04691395e-01  9.72935865e-01\n",
      "  8.95328350e-01  8.64607732e-01 -4.69267094e-01  8.91659691e-01\n",
      "  1.03286728e+01  2.06061416e+00  2.04267124e+00  1.38659818e+00\n",
      "  3.30333545e-01 -9.71205237e-02  1.58216808e+00 -5.05591318e-03\n",
      "  1.40839025e+00 -3.75681793e-01 -1.79137464e-01  6.36558359e-01\n",
      "  1.08672037e-01  6.61010204e-01  1.90461062e-01  4.07584166e-01\n",
      "  1.43281551e+00 -5.43098712e-01  2.77822515e-01  6.73760940e-01\n",
      "  2.02472953e-01  1.42043482e+00  2.01984237e+00  1.67849587e+00\n",
      "  8.33379691e-01  5.24031718e-01  9.06898143e-01  4.85345317e-01\n",
      "  7.15399023e-01 -2.57479511e-01 -1.98897483e-01  5.37437464e-01\n",
      "  1.08727500e+00  6.03095069e+00  3.52427338e-01  2.21307325e+00\n",
      "  7.77046026e+00 -2.13364503e-01 -1.71486041e-01  3.91342202e-01\n",
      "  3.34944789e-01  1.33549148e+00  1.95206285e+00  1.92309030e-01\n",
      " -3.97364611e-01  1.76243664e+00  2.99488621e-01  9.02650273e-01\n",
      "  5.33230643e-01  4.41440282e+00  3.36620142e-01  4.04616478e-01\n",
      "  1.50578204e+01  1.68229707e+00  6.90246901e-01  8.73035740e-01\n",
      " -2.09934632e-01 -1.20990950e+00  6.63496185e-01  9.68739596e-01\n",
      "  2.54727526e-01 -3.92199722e-01  4.29682568e+00  3.16586121e-02\n",
      "  4.98777413e-01  1.44538221e+00 -1.14555185e-01 -1.08070251e+00\n",
      " -1.01992275e-01  1.82428133e+00  2.25848188e+00 -7.00783955e-01\n",
      "  2.02571004e+00  4.05787107e-01  1.15172393e+00  7.85522504e-02\n",
      "  2.72604886e-01  1.31373083e+00  1.46540767e+00  8.64951226e-01\n",
      "  5.66134798e-01 -4.46164563e-01  1.65054353e+01 -1.46297009e-01\n",
      "  3.17020523e+00  2.76685828e-01 -3.27701473e-01  1.90124308e+00\n",
      "  2.36330887e+00  2.52473834e+00  3.07991262e-01  3.79201676e+00\n",
      " -4.20803184e-01  5.02540470e-01  1.90236678e+00  2.90197172e-01\n",
      " -1.36251432e-01  1.97334871e+00 -5.91816988e-02  1.67748454e-01\n",
      " -2.30529639e-01  2.47357077e-01  6.98079173e-01  5.07188592e-01\n",
      "  5.12305788e-01  5.53099865e-01  9.36840570e-01  7.38886036e-01\n",
      "  1.44870219e-01 -1.30828723e-02  5.91471489e-01  1.61513616e+00\n",
      "  4.50167087e-01  3.06471914e-01  1.62613096e-01 -1.72760027e-02\n",
      " -4.78759834e-01  2.35425627e+00 -1.25250426e+00 -3.16556106e-01\n",
      "  1.77831752e-01  5.39508305e+00  1.83515656e+00 -8.69094703e-01\n",
      "  2.35628060e+00 -6.40677912e-02  2.10909132e+00  1.95236798e+01]\n"
     ]
    }
   ],
   "source": [
    "from sklearn.pipeline import Pipeline\n",
    "from sklearn.preprocessing import StandardScaler\n",
    "from sklearn.impute import SimpleImputer\n",
    "from sklearn.linear_model import LinearRegression\n",
    "\n",
    "# Create a pipeline that imputes missing values, scales the features, then fits a Linear Regression model.\n",
    "pipeline = Pipeline([\n",
    "    ('imputer', SimpleImputer(strategy='mean')),\n",
    "    ('scaler', StandardScaler()),\n",
    "    ('regressor', LinearRegression())\n",
    "])\n",
    "\n",
    "# Fit the pipeline on the training data\n",
    "pipeline.fit(X_train, y_train)\n",
    "print(\"\\nPipeline training completed.\")\n",
    "\n",
    "# Optionally, you can inspect the model intercept and coefficients:\n",
    "regressor = pipeline.named_steps['regressor']\n",
    "print(\"Intercept:\", regressor.intercept_)\n",
    "print(\"Coefficients:\", regressor.coef_)"
   ]
  },
  {
   "cell_type": "markdown",
   "id": "553e3d97-24c7-472a-8c23-c05f9b7ba584",
   "metadata": {},
   "source": [
    "# Step 9: Evaluate the Model"
   ]
  },
  {
   "cell_type": "code",
   "execution_count": 12,
   "id": "7c324419-ea96-409c-bbb3-613d8bf3c923",
   "metadata": {},
   "outputs": [
    {
     "name": "stdout",
     "output_type": "stream",
     "text": [
      "\n",
      "Model Evaluation Metrics:\n",
      "Mean Absolute Error (MAE): 41.33\n",
      "Mean Squared Error (MSE): 9714.88\n",
      "R2 Score: 0.55\n"
     ]
    }
   ],
   "source": [
    "# Now evaluate using the pipeline\n",
    "y_pred = pipeline.predict(X_test)\n",
    "\n",
    "# Calculate evaluation metrics\n",
    "mae = mean_absolute_error(y_test, y_pred)\n",
    "mse = mean_squared_error(y_test, y_pred)\n",
    "r2  = r2_score(y_test, y_pred)\n",
    "\n",
    "print(\"\\nModel Evaluation Metrics:\")\n",
    "print(\"Mean Absolute Error (MAE):\", round(mae, 2))\n",
    "print(\"Mean Squared Error (MSE):\", round(mse, 2))\n",
    "print(\"R2 Score:\", round(r2, 2))"
   ]
  },
  {
   "cell_type": "markdown",
   "id": "bbeac0d1-0234-4688-b342-b55a2825f8b1",
   "metadata": {},
   "source": [
    "# Step 10: Build a Recommendation Function"
   ]
  },
  {
   "cell_type": "code",
   "execution_count": 13,
   "id": "c79d6113-8f2a-4ed8-9dad-f4413578472d",
   "metadata": {},
   "outputs": [],
   "source": [
    "def recommend_properties_pipeline(user_budget, data, feature_columns, pipeline):\n",
    "    \"\"\"\n",
    "    Recommend properties within the user's budget using the trained pipeline.\n",
    "    \n",
    "    Parameters:\n",
    "        user_budget (float): The user's maximum budget.\n",
    "        data (DataFrame): The cleaned dataset (with one-hot encoded columns, etc.).\n",
    "        feature_columns (list): List of feature columns used in the model.\n",
    "        pipeline (Pipeline): The trained pipeline (imputer, scaler, regressor).\n",
    "    \n",
    "    Returns:\n",
    "        recommendations (DataFrame): Properties sorted by predicted price.\n",
    "    \"\"\"\n",
    "    data_copy = data.copy()\n",
    "    \n",
    "    # Select feature columns from the data\n",
    "    features = data_copy[feature_columns]\n",
    "    \n",
    "    # Predict prices using the entire pipeline\n",
    "    data_copy['predicted_price'] = pipeline.predict(features)\n",
    "    \n",
    "    # Filter properties within the budget\n",
    "    recommendations = data_copy[data_copy['predicted_price'] <= user_budget]\n",
    "    \n",
    "    # Sort by predicted price (ascending)\n",
    "    recommendations = recommendations.sort_values(by='predicted_price')\n",
    "    \n",
    "    return recommendations"
   ]
  },
  {
   "cell_type": "markdown",
   "id": "de3f076b-33e5-4d90-a399-745bdecf2f53",
   "metadata": {},
   "source": [
    "# Step 11: Get User Input and Display Recommendations"
   ]
  },
  {
   "cell_type": "code",
   "execution_count": 14,
   "id": "a0d9f637-3b4a-44fb-bca1-fb3b3c3ee391",
   "metadata": {},
   "outputs": [
    {
     "name": "stdin",
     "output_type": "stream",
     "text": [
      "Enter your budget in lakhs:  500000\n"
     ]
    },
    {
     "name": "stdout",
     "output_type": "stream",
     "text": [
      "\n",
      "Recommended Houses within your budget (showing top 5 recommendations):\n",
      "      total_sqft  bath  balcony  bhk  location_1st Block Jayanagar  \\\n",
      "2841       527.0   1.0      0.0    1                         False   \n",
      "4698       640.0   1.0      1.0    1                         False   \n",
      "6329       600.0   1.0      2.0    2                         False   \n",
      "2702       674.0   1.0      1.0    1                         False   \n",
      "5516       750.0   1.0      1.0    1                         False   \n",
      "\n",
      "      location_1st Phase JP Nagar  location_2nd Phase Judicial Layout  \\\n",
      "2841                        False                               False   \n",
      "4698                        False                               False   \n",
      "6329                        False                               False   \n",
      "2702                        False                               False   \n",
      "5516                        False                               False   \n",
      "\n",
      "      location_2nd Stage Nagarbhavi  location_5th Block Hbr Layout  \\\n",
      "2841                          False                          False   \n",
      "4698                          False                          False   \n",
      "6329                          False                          False   \n",
      "2702                          False                          False   \n",
      "5516                          False                          False   \n",
      "\n",
      "      location_5th Phase JP Nagar  ...  location_Vittasandra  \\\n",
      "2841                        False  ...                 False   \n",
      "4698                        False  ...                 False   \n",
      "6329                        False  ...                 False   \n",
      "2702                        False  ...                 False   \n",
      "5516                        False  ...                 False   \n",
      "\n",
      "      location_Whitefield  location_Yelachenahalli  location_Yelahanka  \\\n",
      "2841                False                    False               False   \n",
      "4698                False                    False               False   \n",
      "6329                False                    False               False   \n",
      "2702                False                    False               False   \n",
      "5516                False                    False               False   \n",
      "\n",
      "      location_Yelahanka New Town  location_Yelenahalli  \\\n",
      "2841                        False                 False   \n",
      "4698                        False                 False   \n",
      "6329                        False                 False   \n",
      "2702                        False                 False   \n",
      "5516                        False                 False   \n",
      "\n",
      "      location_Yeshwanthpur  location_other  predicted_price  price  \n",
      "2841                  False           False       -44.708563   26.0  \n",
      "4698                  False           False       -41.737443   20.5  \n",
      "6329                  False           False       -41.500069   25.0  \n",
      "2702                  False           False       -40.060683   21.0  \n",
      "5516                  False           False       -38.110049   30.0  \n",
      "\n",
      "[5 rows x 246 columns]\n"
     ]
    }
   ],
   "source": [
    "try:\n",
    "    # Ask the user for their budget (in lakhs)\n",
    "    user_budget = float(input(\"Enter your budget in lakhs: \"))\n",
    "except Exception as e:\n",
    "    print(\"Invalid input. Please enter a numeric value for the budget.\")\n",
    "    user_budget = 0\n",
    "\n",
    "if user_budget > 0:\n",
    "    recommended_houses = recommend_properties_pipeline(user_budget, data, feature_columns, pipeline)\n",
    "    \n",
    "    if not recommended_houses.empty:\n",
    "        print(\"\\nRecommended Houses within your budget (showing top 5 recommendations):\")\n",
    "        display_columns = feature_columns + ['predicted_price', 'price']\n",
    "        print(recommended_houses[display_columns].head())\n",
    "    else:\n",
    "        print(\"\\nNo houses found within the specified budget.\")\n",
    "else:\n",
    "    print(\"Please provide a valid budget to get recommendations.\")"
   ]
  },
  {
   "cell_type": "code",
   "execution_count": null,
   "id": "b31c018a-8693-4fcd-99d0-702615e34ce4",
   "metadata": {},
   "outputs": [],
   "source": []
  }
 ],
 "metadata": {
  "kernelspec": {
   "display_name": "Python 3 (ipykernel)",
   "language": "python",
   "name": "python3"
  },
  "language_info": {
   "codemirror_mode": {
    "name": "ipython",
    "version": 3
   },
   "file_extension": ".py",
   "mimetype": "text/x-python",
   "name": "python",
   "nbconvert_exporter": "python",
   "pygments_lexer": "ipython3",
   "version": "3.12.7"
  }
 },
 "nbformat": 4,
 "nbformat_minor": 5
}
